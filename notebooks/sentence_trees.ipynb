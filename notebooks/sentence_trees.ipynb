{
 "cells": [
  {
   "cell_type": "code",
   "execution_count": 3,
   "metadata": {
    "collapsed": true
   },
   "outputs": [
    {
     "data": {
      "text/plain": "                                                    tweet           author  \\\n0       Madame Vice President, Americans are watching....  MarshaBlackburn   \n1       RT @thehill: Sen. @MarshaBlackburn: \"Can you e...  MarshaBlackburn   \n2       RT @SaraCarterDC: Marsha Blackburn: We need re...  MarshaBlackburn   \n3       Mainstream media is falling in line with the D...  MarshaBlackburn   \n4       Democrats want to pack the Supreme Court so th...  MarshaBlackburn   \n...                                                   ...              ...   \n192759  No authorization for war with Iran:\\n• 2001 AU...      justinamash   \n192760  There’s a reason our Constitution grants Congr...      justinamash   \n192761  Happy New Year!\\n\\nMay 2020 be a year of peace...      justinamash   \n192762  One of the best decisions I made in 2019 was l...      justinamash   \n192763  Please consider making a donation today to my ...      justinamash   \n\n                      date                   id  \n0      2021-04-22 23:57:20  1385382242751500293  \n1      2021-04-22 23:49:43  1385380324495044613  \n2      2021-04-22 23:08:39  1385369992238092288  \n3      2021-04-22 20:43:49  1385333542041784322  \n4      2021-04-22 17:03:59  1385278218186498048  \n...                    ...                  ...  \n192759 2020-01-03 16:52:53  1213141191845388288  \n192760 2020-01-03 03:40:45  1212941844558032898  \n192761 2020-01-01 05:00:00  1212237013040140289  \n192762 2020-01-01 00:25:12  1212167856831508484  \n192763 2019-12-31 15:48:34  1212037842572058626  \n\n[192764 rows x 4 columns]",
      "text/html": "<div>\n<style scoped>\n    .dataframe tbody tr th:only-of-type {\n        vertical-align: middle;\n    }\n\n    .dataframe tbody tr th {\n        vertical-align: top;\n    }\n\n    .dataframe thead th {\n        text-align: right;\n    }\n</style>\n<table border=\"1\" class=\"dataframe\">\n  <thead>\n    <tr style=\"text-align: right;\">\n      <th></th>\n      <th>tweet</th>\n      <th>author</th>\n      <th>date</th>\n      <th>id</th>\n    </tr>\n  </thead>\n  <tbody>\n    <tr>\n      <th>0</th>\n      <td>Madame Vice President, Americans are watching....</td>\n      <td>MarshaBlackburn</td>\n      <td>2021-04-22 23:57:20</td>\n      <td>1385382242751500293</td>\n    </tr>\n    <tr>\n      <th>1</th>\n      <td>RT @thehill: Sen. @MarshaBlackburn: \"Can you e...</td>\n      <td>MarshaBlackburn</td>\n      <td>2021-04-22 23:49:43</td>\n      <td>1385380324495044613</td>\n    </tr>\n    <tr>\n      <th>2</th>\n      <td>RT @SaraCarterDC: Marsha Blackburn: We need re...</td>\n      <td>MarshaBlackburn</td>\n      <td>2021-04-22 23:08:39</td>\n      <td>1385369992238092288</td>\n    </tr>\n    <tr>\n      <th>3</th>\n      <td>Mainstream media is falling in line with the D...</td>\n      <td>MarshaBlackburn</td>\n      <td>2021-04-22 20:43:49</td>\n      <td>1385333542041784322</td>\n    </tr>\n    <tr>\n      <th>4</th>\n      <td>Democrats want to pack the Supreme Court so th...</td>\n      <td>MarshaBlackburn</td>\n      <td>2021-04-22 17:03:59</td>\n      <td>1385278218186498048</td>\n    </tr>\n    <tr>\n      <th>...</th>\n      <td>...</td>\n      <td>...</td>\n      <td>...</td>\n      <td>...</td>\n    </tr>\n    <tr>\n      <th>192759</th>\n      <td>No authorization for war with Iran:\\n• 2001 AU...</td>\n      <td>justinamash</td>\n      <td>2020-01-03 16:52:53</td>\n      <td>1213141191845388288</td>\n    </tr>\n    <tr>\n      <th>192760</th>\n      <td>There’s a reason our Constitution grants Congr...</td>\n      <td>justinamash</td>\n      <td>2020-01-03 03:40:45</td>\n      <td>1212941844558032898</td>\n    </tr>\n    <tr>\n      <th>192761</th>\n      <td>Happy New Year!\\n\\nMay 2020 be a year of peace...</td>\n      <td>justinamash</td>\n      <td>2020-01-01 05:00:00</td>\n      <td>1212237013040140289</td>\n    </tr>\n    <tr>\n      <th>192762</th>\n      <td>One of the best decisions I made in 2019 was l...</td>\n      <td>justinamash</td>\n      <td>2020-01-01 00:25:12</td>\n      <td>1212167856831508484</td>\n    </tr>\n    <tr>\n      <th>192763</th>\n      <td>Please consider making a donation today to my ...</td>\n      <td>justinamash</td>\n      <td>2019-12-31 15:48:34</td>\n      <td>1212037842572058626</td>\n    </tr>\n  </tbody>\n</table>\n<p>192764 rows × 4 columns</p>\n</div>"
     },
     "execution_count": 3,
     "metadata": {},
     "output_type": "execute_result"
    }
   ],
   "source": [
    "import gzip\n",
    "import json\n",
    "from datetime import datetime\n",
    "\n",
    "import IPython\n",
    "import jsonlines\n",
    "import pandas as pd\n",
    "\n",
    "with jsonlines.Reader(gzip.open('../data/politicians_tweetdata_long.jsonl.gz')) as reader:\n",
    "    raw_politician_tweets = list(reader)\n",
    "\n",
    "\n",
    "def parse_twitter_datetime(dt: str):\n",
    "    return datetime.strptime(dt, '%a %b %d %H:%M:%S +0000 %Y')\n",
    "\n",
    "\n",
    "tweet_df = pd.DataFrame(data={\n",
    "    'tweet': [t['full_text'] for t in raw_politician_tweets],\n",
    "    'author': [t['user']['screen_name'] for t in raw_politician_tweets],\n",
    "    'date': [parse_twitter_datetime(t['created_at']) for t in raw_politician_tweets],\n",
    "    'id': [t['id'] for t in raw_politician_tweets]\n",
    "})\n",
    "tweet_df"
   ]
  },
  {
   "cell_type": "markdown",
   "source": [
    "Downsample the rows because otherwise there is way too much data"
   ],
   "metadata": {
    "collapsed": false
   }
  },
  {
   "cell_type": "code",
   "execution_count": 4,
   "outputs": [
    {
     "data": {
      "text/plain": "                                                    tweet           author  \\\n76588   It's hard to believe this has to be said, but ...         JoeBiden   \n61636   @BernieSanders I understand your support for t...        JoinRocky   \n53157   I am about to testify before @RulesDemocrats i...      LeaderHoyer   \n84794   It is my pleasure to join you this Wed Jul 1. ...       DonBeyerVA   \n102510  MAKE MICHIGAN AND AMERICA GREAT AGAIN! 🇺🇸 http...       Mike_Pence   \n...                                                   ...              ...   \n135217  The coronavirus (COVID-19) public health emerg...  gracenapolitano   \n96173   We all have to take steps to make sure that we...  michaelcburgess   \n25149   Dems want you to have the 2k, the House GOP do...    RepSchakowsky   \n64489   (2/2) Durante casi cuatro años he trabajado si...          MarioDB   \n160699  I’m grateful to Kentuckians who are stepping u...  LeaderMcConnell   \n\n                      date                   id  \n76588  2020-06-04 22:00:00  1268663821998206978  \n61636  2020-01-22 19:27:30  1220065470646108162  \n53157  2020-05-14 15:19:19  1260952839851048962  \n84794  2020-06-29 20:10:46  1277696029291405322  \n102510 2020-11-03 07:08:30  1323522425204563969  \n...                    ...                  ...  \n135217 2020-03-25 01:07:31  1242619085680230400  \n96173  2021-01-28 22:37:00  1354921444392710149  \n25149  2020-12-24 21:41:05  1342223796649005063  \n64489  2021-04-20 18:34:42  1384576271913467911  \n160699 2020-04-02 18:21:26  1245778381419024385  \n\n[50000 rows x 4 columns]",
      "text/html": "<div>\n<style scoped>\n    .dataframe tbody tr th:only-of-type {\n        vertical-align: middle;\n    }\n\n    .dataframe tbody tr th {\n        vertical-align: top;\n    }\n\n    .dataframe thead th {\n        text-align: right;\n    }\n</style>\n<table border=\"1\" class=\"dataframe\">\n  <thead>\n    <tr style=\"text-align: right;\">\n      <th></th>\n      <th>tweet</th>\n      <th>author</th>\n      <th>date</th>\n      <th>id</th>\n    </tr>\n  </thead>\n  <tbody>\n    <tr>\n      <th>76588</th>\n      <td>It's hard to believe this has to be said, but ...</td>\n      <td>JoeBiden</td>\n      <td>2020-06-04 22:00:00</td>\n      <td>1268663821998206978</td>\n    </tr>\n    <tr>\n      <th>61636</th>\n      <td>@BernieSanders I understand your support for t...</td>\n      <td>JoinRocky</td>\n      <td>2020-01-22 19:27:30</td>\n      <td>1220065470646108162</td>\n    </tr>\n    <tr>\n      <th>53157</th>\n      <td>I am about to testify before @RulesDemocrats i...</td>\n      <td>LeaderHoyer</td>\n      <td>2020-05-14 15:19:19</td>\n      <td>1260952839851048962</td>\n    </tr>\n    <tr>\n      <th>84794</th>\n      <td>It is my pleasure to join you this Wed Jul 1. ...</td>\n      <td>DonBeyerVA</td>\n      <td>2020-06-29 20:10:46</td>\n      <td>1277696029291405322</td>\n    </tr>\n    <tr>\n      <th>102510</th>\n      <td>MAKE MICHIGAN AND AMERICA GREAT AGAIN! 🇺🇸 http...</td>\n      <td>Mike_Pence</td>\n      <td>2020-11-03 07:08:30</td>\n      <td>1323522425204563969</td>\n    </tr>\n    <tr>\n      <th>...</th>\n      <td>...</td>\n      <td>...</td>\n      <td>...</td>\n      <td>...</td>\n    </tr>\n    <tr>\n      <th>135217</th>\n      <td>The coronavirus (COVID-19) public health emerg...</td>\n      <td>gracenapolitano</td>\n      <td>2020-03-25 01:07:31</td>\n      <td>1242619085680230400</td>\n    </tr>\n    <tr>\n      <th>96173</th>\n      <td>We all have to take steps to make sure that we...</td>\n      <td>michaelcburgess</td>\n      <td>2021-01-28 22:37:00</td>\n      <td>1354921444392710149</td>\n    </tr>\n    <tr>\n      <th>25149</th>\n      <td>Dems want you to have the 2k, the House GOP do...</td>\n      <td>RepSchakowsky</td>\n      <td>2020-12-24 21:41:05</td>\n      <td>1342223796649005063</td>\n    </tr>\n    <tr>\n      <th>64489</th>\n      <td>(2/2) Durante casi cuatro años he trabajado si...</td>\n      <td>MarioDB</td>\n      <td>2021-04-20 18:34:42</td>\n      <td>1384576271913467911</td>\n    </tr>\n    <tr>\n      <th>160699</th>\n      <td>I’m grateful to Kentuckians who are stepping u...</td>\n      <td>LeaderMcConnell</td>\n      <td>2020-04-02 18:21:26</td>\n      <td>1245778381419024385</td>\n    </tr>\n  </tbody>\n</table>\n<p>50000 rows × 4 columns</p>\n</div>"
     },
     "execution_count": 4,
     "metadata": {},
     "output_type": "execute_result"
    }
   ],
   "source": [
    "tweet_df = tweet_df.sample(50000, random_state=0)\n",
    "tweet_df"
   ],
   "metadata": {
    "collapsed": false,
    "pycharm": {
     "name": "#%%\n"
    }
   }
  },
  {
   "cell_type": "code",
   "execution_count": 5,
   "outputs": [
    {
     "data": {
      "text/plain": "              handle       handle_type              name        party  \\\n0    MarshaBlackburn  Official Twitter  Marsha Blackburn   Republican   \n1        pattymurray  Official Twitter      Patty Murray   Democratic   \n3       PeteSessions  Official Twitter     Pete Sessions   Republican   \n4       SessionsTX17  Campaign Twitter     Pete Sessions   Republican   \n5       KamalaHarris  Campaign Twitter     Kamala Harris   Democratic   \n..               ...               ...               ...          ...   \n198   wydenfororegon  Campaign Twitter         Ron Wyden   Democratic   \n199        joesestak  Campaign Twitter        Joe Sestak   Democratic   \n200      amashoffice  Official Twitter      Justin Amash  Libertarian   \n201        teamamash  Campaign Twitter      Justin Amash  Libertarian   \n202      justinamash  Personal Twitter      Justin Amash  Libertarian   \n\n     lgbt_stance  \n0              0  \n1              4  \n3              0  \n4              0  \n5              4  \n..           ...  \n198            4  \n199            4  \n200            0  \n201            0  \n202            0  \n\n[192 rows x 5 columns]",
      "text/html": "<div>\n<style scoped>\n    .dataframe tbody tr th:only-of-type {\n        vertical-align: middle;\n    }\n\n    .dataframe tbody tr th {\n        vertical-align: top;\n    }\n\n    .dataframe thead th {\n        text-align: right;\n    }\n</style>\n<table border=\"1\" class=\"dataframe\">\n  <thead>\n    <tr style=\"text-align: right;\">\n      <th></th>\n      <th>handle</th>\n      <th>handle_type</th>\n      <th>name</th>\n      <th>party</th>\n      <th>lgbt_stance</th>\n    </tr>\n  </thead>\n  <tbody>\n    <tr>\n      <th>0</th>\n      <td>MarshaBlackburn</td>\n      <td>Official Twitter</td>\n      <td>Marsha Blackburn</td>\n      <td>Republican</td>\n      <td>0</td>\n    </tr>\n    <tr>\n      <th>1</th>\n      <td>pattymurray</td>\n      <td>Official Twitter</td>\n      <td>Patty Murray</td>\n      <td>Democratic</td>\n      <td>4</td>\n    </tr>\n    <tr>\n      <th>3</th>\n      <td>PeteSessions</td>\n      <td>Official Twitter</td>\n      <td>Pete Sessions</td>\n      <td>Republican</td>\n      <td>0</td>\n    </tr>\n    <tr>\n      <th>4</th>\n      <td>SessionsTX17</td>\n      <td>Campaign Twitter</td>\n      <td>Pete Sessions</td>\n      <td>Republican</td>\n      <td>0</td>\n    </tr>\n    <tr>\n      <th>5</th>\n      <td>KamalaHarris</td>\n      <td>Campaign Twitter</td>\n      <td>Kamala Harris</td>\n      <td>Democratic</td>\n      <td>4</td>\n    </tr>\n    <tr>\n      <th>...</th>\n      <td>...</td>\n      <td>...</td>\n      <td>...</td>\n      <td>...</td>\n      <td>...</td>\n    </tr>\n    <tr>\n      <th>198</th>\n      <td>wydenfororegon</td>\n      <td>Campaign Twitter</td>\n      <td>Ron Wyden</td>\n      <td>Democratic</td>\n      <td>4</td>\n    </tr>\n    <tr>\n      <th>199</th>\n      <td>joesestak</td>\n      <td>Campaign Twitter</td>\n      <td>Joe Sestak</td>\n      <td>Democratic</td>\n      <td>4</td>\n    </tr>\n    <tr>\n      <th>200</th>\n      <td>amashoffice</td>\n      <td>Official Twitter</td>\n      <td>Justin Amash</td>\n      <td>Libertarian</td>\n      <td>0</td>\n    </tr>\n    <tr>\n      <th>201</th>\n      <td>teamamash</td>\n      <td>Campaign Twitter</td>\n      <td>Justin Amash</td>\n      <td>Libertarian</td>\n      <td>0</td>\n    </tr>\n    <tr>\n      <th>202</th>\n      <td>justinamash</td>\n      <td>Personal Twitter</td>\n      <td>Justin Amash</td>\n      <td>Libertarian</td>\n      <td>0</td>\n    </tr>\n  </tbody>\n</table>\n<p>192 rows × 5 columns</p>\n</div>"
     },
     "execution_count": 5,
     "metadata": {},
     "output_type": "execute_result"
    }
   ],
   "source": [
    "with open('../data/politicians.json') as file:\n",
    "    raw_politicians = json.load(file)\n",
    "\n",
    "politician_handles = [\n",
    "    {\n",
    "        'handle': handle['handle'],\n",
    "        'handle_type': handle['name'],\n",
    "        'name': p['name'],\n",
    "        'party': p['party'],\n",
    "        'lgbt_stance': p['vote_match'][2]\n",
    "    }\n",
    "    for p in raw_politicians for handle in p['twitters']\n",
    "]\n",
    "\n",
    "politician_df = pd.DataFrame.from_dict(politician_handles)\n",
    "politician_df = politician_df[politician_df['handle_type'] != 'Don Beyer Twitter feed']\n",
    "politician_df"
   ],
   "metadata": {
    "collapsed": false,
    "pycharm": {
     "name": "#%%\n"
    }
   }
  },
  {
   "cell_type": "code",
   "execution_count": 6,
   "outputs": [],
   "source": [
    "tweet_df = tweet_df.merge(politician_df, left_on='author', right_on='handle')"
   ],
   "metadata": {
    "collapsed": false,
    "pycharm": {
     "name": "#%%\n"
    }
   }
  },
  {
   "cell_type": "code",
   "execution_count": 7,
   "outputs": [
    {
     "data": {
      "text/plain": "[('i', 'NN'),\n ('’', 'VBP'),\n ('m', 'NN'),\n ('running', 'VBG'),\n ('as', 'IN'),\n ('a', 'DT'),\n ('proud', 'JJ'),\n ('democrat', 'NN'),\n ('.', '.'),\n ('but', 'CC'),\n ('i', 'VBP'),\n ('will', 'MD'),\n ('govern', 'VB'),\n ('as', 'IN'),\n ('an', 'DT'),\n ('american', 'JJ'),\n ('president', 'NN'),\n ('.', '.'),\n ('https://t.co/UgNPbQdNZH', 'NN')]"
     },
     "execution_count": 7,
     "metadata": {},
     "output_type": "execute_result"
    }
   ],
   "source": [
    "import nltk\n",
    "from nltk import TweetTokenizer\n",
    "\n",
    "tokenizer = TweetTokenizer(preserve_case=False, reduce_len=True)\n",
    "\n",
    "\n",
    "def preprocess(sent):\n",
    "    sent = tokenizer.tokenize(sent)\n",
    "    sent = nltk.pos_tag(sent)\n",
    "    return sent\n",
    "\n",
    "\n",
    "tweet = tweet_df['tweet'].iloc[32]\n",
    "\n",
    "preprocess(tweet)"
   ],
   "metadata": {
    "collapsed": false,
    "pycharm": {
     "name": "#%%\n"
    }
   }
  },
  {
   "cell_type": "code",
   "execution_count": 8,
   "outputs": [
    {
     "data": {
      "text/plain": "Tree('S', [Tree('NP', [('i', 'NN')]), ('’', 'VBP'), Tree('NP', [('m', 'NN')]), ('running', 'VBG'), ('as', 'IN'), ('a', 'DT'), Tree('NP', [('proud', 'JJ'), ('democrat', 'NN')]), ('.', '.'), ('but', 'CC'), ('i', 'VBP'), ('will', 'MD'), ('govern', 'VB'), ('as', 'IN'), ('an', 'DT'), Tree('NP', [('american', 'JJ'), ('president', 'NN')]), ('.', '.'), Tree('NP', [('https://t.co/UgNPbQdNZH', 'NN')])])",
      "image/png": "[encoded data removed]"
     },
     "metadata": {},
     "output_type": "display_data"
    }
   ],
   "source": [
    "pattern = 'NP: {<JJ>*<NN>}'\n",
    "cp = nltk.RegexpParser(pattern)\n",
    "cs = cp.parse(preprocess(tweet))\n",
    "\n",
    "\n",
    "\n",
    "from nltk.tree import Tree\n",
    "import IPython\n",
    "from IPython.display import display\n",
    "\n",
    "tree = Tree.fromstring('(S (NP this tree) (VP (V is) (AdjP pretty)))')\n",
    "IPython.core.display.display(cs)"
   ],
   "metadata": {
    "collapsed": false,
    "pycharm": {
     "name": "#%%\n"
    }
   }
  },
  {
   "cell_type": "code",
   "execution_count": 8,
   "outputs": [],
   "source": [],
   "metadata": {
    "collapsed": false,
    "pycharm": {
     "name": "#%%\n"
    }
   }
  }
 ],
 "metadata": {
  "kernelspec": {
   "display_name": "Python 3",
   "language": "python",
   "name": "python3"
  },
  "language_info": {
   "codemirror_mode": {
    "name": "ipython",
    "version": 2
   },
   "file_extension": ".py",
   "mimetype": "text/x-python",
   "name": "python",
   "nbconvert_exporter": "python",
   "pygments_lexer": "ipython2",
   "version": "2.7.6"
  }
 },
 "nbformat": 4,
 "nbformat_minor": 0
}