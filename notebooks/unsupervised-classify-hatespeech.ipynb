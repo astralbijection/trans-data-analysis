{
 "cells": [
  {
   "cell_type": "code",
   "execution_count": 65,
   "metadata": {
    "collapsed": true
   },
   "outputs": [
    {
     "data": {
      "text/plain": "         Unnamed: 0        count  hate_speech  offensive_language  \\\ncount   4993.000000  4993.000000  4993.000000         4993.000000   \nmean   12039.054476     3.382936     1.392349            1.827759   \nstd     7351.680408     1.124272     0.658461            1.256703   \nmin        5.000000     3.000000     1.000000            0.000000   \n25%     5575.000000     3.000000     1.000000            1.000000   \n50%    11383.000000     3.000000     1.000000            2.000000   \n75%    18457.000000     3.000000     2.000000            2.000000   \nmax    25290.000000     9.000000     7.000000            8.000000   \n\n           neither        class  \ncount  4993.000000  4993.000000  \nmean      0.162828     0.764070  \nstd       0.594213     0.530344  \nmin       0.000000     0.000000  \n25%       0.000000     0.000000  \n50%       0.000000     1.000000  \n75%       0.000000     1.000000  \nmax       8.000000     2.000000  ",
      "text/html": "<div>\n<style scoped>\n    .dataframe tbody tr th:only-of-type {\n        vertical-align: middle;\n    }\n\n    .dataframe tbody tr th {\n        vertical-align: top;\n    }\n\n    .dataframe thead th {\n        text-align: right;\n    }\n</style>\n<table border=\"1\" class=\"dataframe\">\n  <thead>\n    <tr style=\"text-align: right;\">\n      <th></th>\n      <th>Unnamed: 0</th>\n      <th>count</th>\n      <th>hate_speech</th>\n      <th>offensive_language</th>\n      <th>neither</th>\n      <th>class</th>\n    </tr>\n  </thead>\n  <tbody>\n    <tr>\n      <th>count</th>\n      <td>4993.000000</td>\n      <td>4993.000000</td>\n      <td>4993.000000</td>\n      <td>4993.000000</td>\n      <td>4993.000000</td>\n      <td>4993.000000</td>\n    </tr>\n    <tr>\n      <th>mean</th>\n      <td>12039.054476</td>\n      <td>3.382936</td>\n      <td>1.392349</td>\n      <td>1.827759</td>\n      <td>0.162828</td>\n      <td>0.764070</td>\n    </tr>\n    <tr>\n      <th>std</th>\n      <td>7351.680408</td>\n      <td>1.124272</td>\n      <td>0.658461</td>\n      <td>1.256703</td>\n      <td>0.594213</td>\n      <td>0.530344</td>\n    </tr>\n    <tr>\n      <th>min</th>\n      <td>5.000000</td>\n      <td>3.000000</td>\n      <td>1.000000</td>\n      <td>0.000000</td>\n      <td>0.000000</td>\n      <td>0.000000</td>\n    </tr>\n    <tr>\n      <th>25%</th>\n      <td>5575.000000</td>\n      <td>3.000000</td>\n      <td>1.000000</td>\n      <td>1.000000</td>\n      <td>0.000000</td>\n      <td>0.000000</td>\n    </tr>\n    <tr>\n      <th>50%</th>\n      <td>11383.000000</td>\n      <td>3.000000</td>\n      <td>1.000000</td>\n      <td>2.000000</td>\n      <td>0.000000</td>\n      <td>1.000000</td>\n    </tr>\n    <tr>\n      <th>75%</th>\n      <td>18457.000000</td>\n      <td>3.000000</td>\n      <td>2.000000</td>\n      <td>2.000000</td>\n      <td>0.000000</td>\n      <td>1.000000</td>\n    </tr>\n    <tr>\n      <th>max</th>\n      <td>25290.000000</td>\n      <td>9.000000</td>\n      <td>7.000000</td>\n      <td>8.000000</td>\n      <td>8.000000</td>\n      <td>2.000000</td>\n    </tr>\n  </tbody>\n</table>\n</div>"
     },
     "execution_count": 65,
     "metadata": {},
     "output_type": "execute_result"
    }
   ],
   "source": [
    "import pandas as pd\n",
    "\n",
    "hatespeech = pd.read_csv(\"../data/hatespeech.csv\")\n",
    "\n",
    "hatespeech = hatespeech[hatespeech['hate_speech'] > 0.5]\n",
    "hatespeech.describe()"
   ]
  },
  {
   "cell_type": "code",
   "source": [
    "from sklearn.feature_extraction.text import TfidfVectorizer\n",
    "\n",
    "vectorizer = TfidfVectorizer(\n",
    "    analyzer='word',\n",
    "    stop_words='english'\n",
    ")\n",
    "\n",
    "tfidf_vecs  = vectorizer.fit_transform(hatespeech['tweet'])"
   ],
   "metadata": {
    "collapsed": false,
    "pycharm": {
     "name": "#%%\n"
    }
   },
   "execution_count": 39,
   "outputs": []
  },
  {
   "cell_type": "code",
   "execution_count": 40,
   "outputs": [
    {
     "data": {
      "text/plain": "KMeans(n_clusters=10)"
     },
     "execution_count": 40,
     "metadata": {},
     "output_type": "execute_result"
    }
   ],
   "source": [
    "from sklearn.cluster import KMeans\n",
    "\n",
    "km = KMeans(n_clusters=10)\n",
    "\n",
    "result = km.fit(tfidf_vecs)\n",
    "result"
   ],
   "metadata": {
    "collapsed": false,
    "pycharm": {
     "name": "#%%\n"
    }
   }
  },
  {
   "cell_type": "code",
   "execution_count": 68,
   "outputs": [
    {
     "data": {
      "text/plain": "                                                                                                                                                                tweet  \\\n5      !!!!!!!!!!!!!!!!!!\"@T_Madison_x: The shit just blows me..claim you so faithful and down for somebody but still fucking with hoes! &#128514;&#128514;&#128514;\"   \n9                                                                                                           \" @rhythmixx_ :hobbies include: fighting Mariam\"\\n\\nbitch   \n14                                                                                                                                            \" bitch get up off me \"   \n17                                                                                                                                          \" bitch who do you love \"   \n49                                                                                                       \" these hoes like niggas that spend money not talk bout it \"   \n...                                                                                                                                                               ...   \n24753                                                                                                                          you ain't gotta be a dyke to like hoes   \n24762                                                                                                                              you got niggas, and i got bitches.   \n24773                                                                                                                           you niggers cheat on ya gf's? smh....   \n24776                                                                                                                                              you're all niggers   \n24777                                                      you're such a retard i hope you get type 2 diabetes and die from a sugar rush you fucking faggot @Dare_ILK   \n\n       predictions  \n5                2  \n9                1  \n14               1  \n17               1  \n49               6  \n...            ...  \n24753            6  \n24762            9  \n24773            8  \n24776            8  \n24777            3  \n\n[4993 rows x 2 columns]",
      "text/html": "<div>\n<style scoped>\n    .dataframe tbody tr th:only-of-type {\n        vertical-align: middle;\n    }\n\n    .dataframe tbody tr th {\n        vertical-align: top;\n    }\n\n    .dataframe thead th {\n        text-align: right;\n    }\n</style>\n<table border=\"1\" class=\"dataframe\">\n  <thead>\n    <tr style=\"text-align: right;\">\n      <th></th>\n      <th>tweet</th>\n      <th>predictions</th>\n    </tr>\n  </thead>\n  <tbody>\n    <tr>\n      <th>5</th>\n      <td>!!!!!!!!!!!!!!!!!!\"@T_Madison_x: The shit just blows me..claim you so faithful and down for somebody but still fucking with hoes! &amp;#128514;&amp;#128514;&amp;#128514;\"</td>\n      <td>2</td>\n    </tr>\n    <tr>\n      <th>9</th>\n      <td>\" @rhythmixx_ :hobbies include: fighting Mariam\"\\n\\nbitch</td>\n      <td>1</td>\n    </tr>\n    <tr>\n      <th>14</th>\n      <td>\" bitch get up off me \"</td>\n      <td>1</td>\n    </tr>\n    <tr>\n      <th>17</th>\n      <td>\" bitch who do you love \"</td>\n      <td>1</td>\n    </tr>\n    <tr>\n      <th>49</th>\n      <td>\" these hoes like niggas that spend money not talk bout it \"</td>\n      <td>6</td>\n    </tr>\n    <tr>\n      <th>...</th>\n      <td>...</td>\n      <td>...</td>\n    </tr>\n    <tr>\n      <th>24753</th>\n      <td>you ain't gotta be a dyke to like hoes</td>\n      <td>6</td>\n    </tr>\n    <tr>\n      <th>24762</th>\n      <td>you got niggas, and i got bitches.</td>\n      <td>9</td>\n    </tr>\n    <tr>\n      <th>24773</th>\n      <td>you niggers cheat on ya gf's? smh....</td>\n      <td>8</td>\n    </tr>\n    <tr>\n      <th>24776</th>\n      <td>you're all niggers</td>\n      <td>8</td>\n    </tr>\n    <tr>\n      <th>24777</th>\n      <td>you're such a retard i hope you get type 2 diabetes and die from a sugar rush you fucking faggot @Dare_ILK</td>\n      <td>3</td>\n    </tr>\n  </tbody>\n</table>\n<p>4993 rows × 2 columns</p>\n</div>"
     },
     "execution_count": 68,
     "metadata": {},
     "output_type": "execute_result"
    }
   ],
   "source": [
    "hatespeech['predictions'] = km.predict(tfidf_vecs)\n",
    "\n",
    "pd.options.display.max_colwidth = 500\n",
    "preds = hatespeech[['tweet', 'predictions']]\n",
    "\n",
    "preds"
   ],
   "metadata": {
    "collapsed": false,
    "pycharm": {
     "name": "#%%\n"
    }
   }
  },
  {
   "cell_type": "code",
   "execution_count": 69,
   "outputs": [
    {
     "data": {
      "text/plain": "             tweet\npredictions       \n0              244\n1              862\n2              147\n3              325\n4              310\n5              277\n6              332\n7              245\n8             1865\n9              386",
      "text/html": "<div>\n<style scoped>\n    .dataframe tbody tr th:only-of-type {\n        vertical-align: middle;\n    }\n\n    .dataframe tbody tr th {\n        vertical-align: top;\n    }\n\n    .dataframe thead th {\n        text-align: right;\n    }\n</style>\n<table border=\"1\" class=\"dataframe\">\n  <thead>\n    <tr style=\"text-align: right;\">\n      <th></th>\n      <th>tweet</th>\n    </tr>\n    <tr>\n      <th>predictions</th>\n      <th></th>\n    </tr>\n  </thead>\n  <tbody>\n    <tr>\n      <th>0</th>\n      <td>244</td>\n    </tr>\n    <tr>\n      <th>1</th>\n      <td>862</td>\n    </tr>\n    <tr>\n      <th>2</th>\n      <td>147</td>\n    </tr>\n    <tr>\n      <th>3</th>\n      <td>325</td>\n    </tr>\n    <tr>\n      <th>4</th>\n      <td>310</td>\n    </tr>\n    <tr>\n      <th>5</th>\n      <td>277</td>\n    </tr>\n    <tr>\n      <th>6</th>\n      <td>332</td>\n    </tr>\n    <tr>\n      <th>7</th>\n      <td>245</td>\n    </tr>\n    <tr>\n      <th>8</th>\n      <td>1865</td>\n    </tr>\n    <tr>\n      <th>9</th>\n      <td>386</td>\n    </tr>\n  </tbody>\n</table>\n</div>"
     },
     "execution_count": 69,
     "metadata": {},
     "output_type": "execute_result"
    }
   ],
   "source": [
    "preds.groupby('predictions').nunique()"
   ],
   "metadata": {
    "collapsed": false,
    "pycharm": {
     "name": "#%%\n"
    }
   }
  },
  {
   "cell_type": "code",
   "execution_count": 92,
   "outputs": [
    {
     "data": {
      "text/plain": "<BarContainer object of 8 artists>"
     },
     "execution_count": 92,
     "metadata": {},
     "output_type": "execute_result"
    },
    {
     "data": {
      "text/plain": "<Figure size 432x288 with 1 Axes>",
      "image/png": "[encoded data removed]"
     },
     "metadata": {
      "needs_background": "light"
     },
     "output_type": "display_data"
    }
   ],
   "source": [
    "import matplotlib.pyplot as plt\n",
    "\n",
    "def groups_containing(term):\n",
    "    result = preds[preds['tweet'].str.contains(term)]\n",
    "    return result.groupby('predictions').nunique()\n",
    "\n",
    "\n",
    "df = groups_containing('')\n",
    "plt.bar(df.index, df['tweet'])"
   ],
   "metadata": {
    "collapsed": false,
    "pycharm": {
     "name": "#%%\n"
    }
   }
  },
  {
   "cell_type": "code",
   "execution_count": 72,
   "outputs": [
    {
     "data": {
      "text/plain": "                                                                                                                                                     tweet  \\\n77         \"@BeEasyJrizzy: u ever kill a ant on the sidewalk and think damn what if that nigga was on his way to get some pussy\"No bs must b &gt;30%chance   \n99                                                                                              \"@ChandlerParsons: How bout them Cowboys!!!!\" Shutup pussy   \n177    \"@Lipe_the_Great: &#8220;@h0rheyd: \"@Lipe_the_Great: Shut up zoe\" fight me pussy&#8221; for zoe? I'm good, man.\" You are good ma'am. Move along now   \n289                            \"@_BaDa_Bing: I only punch real niggas in the face cause a pussy Nigga is gonna punch me right back\" Strong Mush or Shake..   \n350                                                                               \"@jboii2: ima keep on giving these pussy ass niggas ah reason to hate !\"   \n...                                                                                                                                                    ...   \n24366                                                                                                                                    pussy ass bitches   \n24436                                                     smh RT @uglyhxes Tyga shoulda knew Blacc Chyna was a hoe when his son crip walked out her pussy.   \n24513                       the devils been sending his workers to get at me lately... pussy fuck boy try harder.. can't let'em throw me off my 1... 2ssss   \n24551                                                                                                          these pussy ass niggas ain't bout that life   \n24600                                                                                                                                   too bad ur a pussy   \n\n       predictions  \n77               5  \n99               5  \n177              5  \n289              5  \n350              5  \n...            ...  \n24366            5  \n24436            5  \n24513            5  \n24551            5  \n24600            5  \n\n[277 rows x 2 columns]",
      "text/html": "<div>\n<style scoped>\n    .dataframe tbody tr th:only-of-type {\n        vertical-align: middle;\n    }\n\n    .dataframe tbody tr th {\n        vertical-align: top;\n    }\n\n    .dataframe thead th {\n        text-align: right;\n    }\n</style>\n<table border=\"1\" class=\"dataframe\">\n  <thead>\n    <tr style=\"text-align: right;\">\n      <th></th>\n      <th>tweet</th>\n      <th>predictions</th>\n    </tr>\n  </thead>\n  <tbody>\n    <tr>\n      <th>77</th>\n      <td>\"@BeEasyJrizzy: u ever kill a ant on the sidewalk and think damn what if that nigga was on his way to get some pussy\"No bs must b &amp;gt;30%chance</td>\n      <td>5</td>\n    </tr>\n    <tr>\n      <th>99</th>\n      <td>\"@ChandlerParsons: How bout them Cowboys!!!!\" Shutup pussy</td>\n      <td>5</td>\n    </tr>\n    <tr>\n      <th>177</th>\n      <td>\"@Lipe_the_Great: &amp;#8220;@h0rheyd: \"@Lipe_the_Great: Shut up zoe\" fight me pussy&amp;#8221; for zoe? I'm good, man.\" You are good ma'am. Move along now</td>\n      <td>5</td>\n    </tr>\n    <tr>\n      <th>289</th>\n      <td>\"@_BaDa_Bing: I only punch real niggas in the face cause a pussy Nigga is gonna punch me right back\" Strong Mush or Shake..</td>\n      <td>5</td>\n    </tr>\n    <tr>\n      <th>350</th>\n      <td>\"@jboii2: ima keep on giving these pussy ass niggas ah reason to hate !\"</td>\n      <td>5</td>\n    </tr>\n    <tr>\n      <th>...</th>\n      <td>...</td>\n      <td>...</td>\n    </tr>\n    <tr>\n      <th>24366</th>\n      <td>pussy ass bitches</td>\n      <td>5</td>\n    </tr>\n    <tr>\n      <th>24436</th>\n      <td>smh RT @uglyhxes Tyga shoulda knew Blacc Chyna was a hoe when his son crip walked out her pussy.</td>\n      <td>5</td>\n    </tr>\n    <tr>\n      <th>24513</th>\n      <td>the devils been sending his workers to get at me lately... pussy fuck boy try harder.. can't let'em throw me off my 1... 2ssss</td>\n      <td>5</td>\n    </tr>\n    <tr>\n      <th>24551</th>\n      <td>these pussy ass niggas ain't bout that life</td>\n      <td>5</td>\n    </tr>\n    <tr>\n      <th>24600</th>\n      <td>too bad ur a pussy</td>\n      <td>5</td>\n    </tr>\n  </tbody>\n</table>\n<p>277 rows × 2 columns</p>\n</div>"
     },
     "execution_count": 72,
     "metadata": {},
     "output_type": "execute_result"
    }
   ],
   "source": [
    "preds[hatespeech['predictions'] == 5]"
   ],
   "metadata": {
    "collapsed": false,
    "pycharm": {
     "name": "#%%\n"
    }
   }
  }
 ],
 "metadata": {
  "kernelspec": {
   "display_name": "Python 3",
   "language": "python",
   "name": "python3"
  },
  "language_info": {
   "codemirror_mode": {
    "name": "ipython",
    "version": 2
   },
   "file_extension": ".py",
   "mimetype": "text/x-python",
   "name": "python",
   "nbconvert_exporter": "python",
   "pygments_lexer": "ipython2",
   "version": "2.7.6"
  }
 },
 "nbformat": 4,
 "nbformat_minor": 0
}