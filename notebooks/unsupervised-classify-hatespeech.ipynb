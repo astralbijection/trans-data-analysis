{
 "cells": [
  {
   "cell_type": "code",
   "execution_count": 103,
   "metadata": {
    "collapsed": true,
    "pycharm": {
     "name": "#%%\n"
    }
   },
   "outputs": [
    {
     "data": {
      "text/plain": "         Unnamed: 0         count   hate_speech  offensive_language  \\\ncount  24783.000000  24783.000000  24783.000000        24783.000000   \nmean   12681.192027      3.243473      0.280515            2.413711   \nstd     7299.553863      0.883060      0.631851            1.399459   \nmin        0.000000      3.000000      0.000000            0.000000   \n25%     6372.500000      3.000000      0.000000            2.000000   \n50%    12703.000000      3.000000      0.000000            3.000000   \n75%    18995.500000      3.000000      0.000000            3.000000   \nmax    25296.000000      9.000000      7.000000            9.000000   \n\n            neither         class  \ncount  24783.000000  24783.000000  \nmean       0.549247      1.110277  \nstd        1.113299      0.462089  \nmin        0.000000      0.000000  \n25%        0.000000      1.000000  \n50%        0.000000      1.000000  \n75%        0.000000      1.000000  \nmax        9.000000      2.000000  ",
      "text/html": "<div>\n<style scoped>\n    .dataframe tbody tr th:only-of-type {\n        vertical-align: middle;\n    }\n\n    .dataframe tbody tr th {\n        vertical-align: top;\n    }\n\n    .dataframe thead th {\n        text-align: right;\n    }\n</style>\n<table border=\"1\" class=\"dataframe\">\n  <thead>\n    <tr style=\"text-align: right;\">\n      <th></th>\n      <th>Unnamed: 0</th>\n      <th>count</th>\n      <th>hate_speech</th>\n      <th>offensive_language</th>\n      <th>neither</th>\n      <th>class</th>\n    </tr>\n  </thead>\n  <tbody>\n    <tr>\n      <th>count</th>\n      <td>24783.000000</td>\n      <td>24783.000000</td>\n      <td>24783.000000</td>\n      <td>24783.000000</td>\n      <td>24783.000000</td>\n      <td>24783.000000</td>\n    </tr>\n    <tr>\n      <th>mean</th>\n      <td>12681.192027</td>\n      <td>3.243473</td>\n      <td>0.280515</td>\n      <td>2.413711</td>\n      <td>0.549247</td>\n      <td>1.110277</td>\n    </tr>\n    <tr>\n      <th>std</th>\n      <td>7299.553863</td>\n      <td>0.883060</td>\n      <td>0.631851</td>\n      <td>1.399459</td>\n      <td>1.113299</td>\n      <td>0.462089</td>\n    </tr>\n    <tr>\n      <th>min</th>\n      <td>0.000000</td>\n      <td>3.000000</td>\n      <td>0.000000</td>\n      <td>0.000000</td>\n      <td>0.000000</td>\n      <td>0.000000</td>\n    </tr>\n    <tr>\n      <th>25%</th>\n      <td>6372.500000</td>\n      <td>3.000000</td>\n      <td>0.000000</td>\n      <td>2.000000</td>\n      <td>0.000000</td>\n      <td>1.000000</td>\n    </tr>\n    <tr>\n      <th>50%</th>\n      <td>12703.000000</td>\n      <td>3.000000</td>\n      <td>0.000000</td>\n      <td>3.000000</td>\n      <td>0.000000</td>\n      <td>1.000000</td>\n    </tr>\n    <tr>\n      <th>75%</th>\n      <td>18995.500000</td>\n      <td>3.000000</td>\n      <td>0.000000</td>\n      <td>3.000000</td>\n      <td>0.000000</td>\n      <td>1.000000</td>\n    </tr>\n    <tr>\n      <th>max</th>\n      <td>25296.000000</td>\n      <td>9.000000</td>\n      <td>7.000000</td>\n      <td>9.000000</td>\n      <td>9.000000</td>\n      <td>2.000000</td>\n    </tr>\n  </tbody>\n</table>\n</div>"
     },
     "execution_count": 103,
     "metadata": {},
     "output_type": "execute_result"
    }
   ],
   "source": [
    "import pandas as pd\n",
    "\n",
    "hs_df = pd.read_csv(\"../data/hatespeech.csv\")\n",
    "\n",
    "hs_df.describe()"
   ]
  },
  {
   "cell_type": "code",
   "execution_count": 104,
   "outputs": [
    {
     "name": "stderr",
     "output_type": "stream",
     "text": [
      "[nltk_data] Downloading package stopwords to /home/astrid/nltk_data...\n",
      "[nltk_data]   Package stopwords is already up-to-date!\n"
     ]
    },
    {
     "data": {
      "text/plain": "array(['rt', '@mayasolovely', 'woman', ..., 'white', 'coll',\n       'http://t.co/h0dyebvnzb'], dtype='<U84')"
     },
     "execution_count": 104,
     "metadata": {},
     "output_type": "execute_result"
    }
   ],
   "source": [
    "import nltk\n",
    "import numpy as np\n",
    "from nltk import TweetTokenizer\n",
    "\n",
    "#hs_only_df = hs_df[hs_df['hate_speech'] > 0.5]\n",
    "\n",
    "stopwords = nltk.download('stopwords')\n",
    "stop = set(nltk.corpus.stopwords.words('english'))\n",
    "\n",
    "for punctuation in '''!@#$%^&*()?:;/.,`'\"''':\n",
    "    stop.add(punctuation)\n",
    "\n",
    "\n",
    "def tokenize_tweets(tweets, stopwords=None):\n",
    "    tokenizer = TweetTokenizer()\n",
    "    for tweet in tweets:\n",
    "        tokens = tokenizer.tokenize(tweet)\n",
    "        if stopwords is not None:\n",
    "            tokens = [tok for tok in tokens if tok not in stopwords]\n",
    "        yield tokens\n",
    "\n",
    "def tokenize_tweets_and_flatten(tweets):\n",
    "    tokenized_tweets = tokenize_tweets(tweets, stop)\n",
    "    return (tok for tweet in tokenized_tweets for tok in tweet)\n",
    "\n",
    "all_tokens = np.array(list(tokenize_tweets_and_flatten(hs_df['tweet'].str.lower())))\n",
    "all_tokens"
   ],
   "metadata": {
    "collapsed": false,
    "pycharm": {
     "name": "#%%\n"
    }
   }
  },
  {
   "cell_type": "code",
   "execution_count": 105,
   "outputs": [],
   "source": [
    "tokens, counts = np.unique(all_tokens, return_counts=True)\n",
    "frequency_df = pd.DataFrame(\n",
    "    data={'token': tokens, 'count': counts}\n",
    ")\n",
    "frequency_df.set_index('token', inplace=True)\n",
    "frequency_df.sort_values('count', inplace=True, ascending=False)"
   ],
   "metadata": {
    "collapsed": false,
    "pycharm": {
     "name": "#%%\n"
    }
   }
  },
  {
   "cell_type": "code",
   "execution_count": 106,
   "outputs": [
    {
     "data": {
      "text/plain": "<Figure size 432x288 with 1 Axes>",
      "image/png": "[encoded data removed]"
     },
     "metadata": {
      "needs_background": "light"
     },
     "output_type": "display_data"
    }
   ],
   "source": [
    "import matplotlib.pyplot as plt\n",
    "\n",
    "fig, ax = plt.subplots()\n",
    "frequency_df['count'].iloc[:30].plot.bar()\n",
    "plt.show()"
   ],
   "metadata": {
    "collapsed": false,
    "pycharm": {
     "name": "#%%\n"
    }
   }
  }
 ],
 "metadata": {
  "kernelspec": {
   "display_name": "Python 3",
   "language": "python",
   "name": "python3"
  },
  "language_info": {
   "codemirror_mode": {
    "name": "ipython",
    "version": 2
   },
   "file_extension": ".py",
   "mimetype": "text/x-python",
   "name": "python",
   "nbconvert_exporter": "python",
   "pygments_lexer": "ipython2",
   "version": "2.7.6"
  }
 },
 "nbformat": 4,
 "nbformat_minor": 0
}