{
 "cells": [
  {
   "cell_type": "code",
   "execution_count": 44,
   "metadata": {
    "pycharm": {
     "name": "#%%\n"
    }
   },
   "outputs": [
    {
     "data": {
      "text/html": [
       "<div>\n",
       "<style scoped>\n",
       "    .dataframe tbody tr th:only-of-type {\n",
       "        vertical-align: middle;\n",
       "    }\n",
       "\n",
       "    .dataframe tbody tr th {\n",
       "        vertical-align: top;\n",
       "    }\n",
       "\n",
       "    .dataframe thead th {\n",
       "        text-align: right;\n",
       "    }\n",
       "</style>\n",
       "<table border=\"1\" class=\"dataframe\">\n",
       "  <thead>\n",
       "    <tr style=\"text-align: right;\">\n",
       "      <th></th>\n",
       "      <th>tweet</th>\n",
       "      <th>author</th>\n",
       "      <th>date</th>\n",
       "      <th>id</th>\n",
       "    </tr>\n",
       "  </thead>\n",
       "  <tbody>\n",
       "    <tr>\n",
       "      <th>0</th>\n",
       "      <td>Madame Vice President, Americans are watching....</td>\n",
       "      <td>MarshaBlackburn</td>\n",
       "      <td>2021-04-22 23:57:20</td>\n",
       "      <td>1385382242751500293</td>\n",
       "    </tr>\n",
       "    <tr>\n",
       "      <th>1</th>\n",
       "      <td>RT @thehill: Sen. @MarshaBlackburn: \"Can you e...</td>\n",
       "      <td>MarshaBlackburn</td>\n",
       "      <td>2021-04-22 23:49:43</td>\n",
       "      <td>1385380324495044613</td>\n",
       "    </tr>\n",
       "    <tr>\n",
       "      <th>2</th>\n",
       "      <td>RT @SaraCarterDC: Marsha Blackburn: We need re...</td>\n",
       "      <td>MarshaBlackburn</td>\n",
       "      <td>2021-04-22 23:08:39</td>\n",
       "      <td>1385369992238092288</td>\n",
       "    </tr>\n",
       "    <tr>\n",
       "      <th>3</th>\n",
       "      <td>Mainstream media is falling in line with the D...</td>\n",
       "      <td>MarshaBlackburn</td>\n",
       "      <td>2021-04-22 20:43:49</td>\n",
       "      <td>1385333542041784322</td>\n",
       "    </tr>\n",
       "    <tr>\n",
       "      <th>4</th>\n",
       "      <td>Democrats want to pack the Supreme Court so th...</td>\n",
       "      <td>MarshaBlackburn</td>\n",
       "      <td>2021-04-22 17:03:59</td>\n",
       "      <td>1385278218186498048</td>\n",
       "    </tr>\n",
       "    <tr>\n",
       "      <th>...</th>\n",
       "      <td>...</td>\n",
       "      <td>...</td>\n",
       "      <td>...</td>\n",
       "      <td>...</td>\n",
       "    </tr>\n",
       "    <tr>\n",
       "      <th>192759</th>\n",
       "      <td>No authorization for war with Iran:\\n• 2001 AU...</td>\n",
       "      <td>justinamash</td>\n",
       "      <td>2020-01-03 16:52:53</td>\n",
       "      <td>1213141191845388288</td>\n",
       "    </tr>\n",
       "    <tr>\n",
       "      <th>192760</th>\n",
       "      <td>There’s a reason our Constitution grants Congr...</td>\n",
       "      <td>justinamash</td>\n",
       "      <td>2020-01-03 03:40:45</td>\n",
       "      <td>1212941844558032898</td>\n",
       "    </tr>\n",
       "    <tr>\n",
       "      <th>192761</th>\n",
       "      <td>Happy New Year!\\n\\nMay 2020 be a year of peace...</td>\n",
       "      <td>justinamash</td>\n",
       "      <td>2020-01-01 05:00:00</td>\n",
       "      <td>1212237013040140289</td>\n",
       "    </tr>\n",
       "    <tr>\n",
       "      <th>192762</th>\n",
       "      <td>One of the best decisions I made in 2019 was l...</td>\n",
       "      <td>justinamash</td>\n",
       "      <td>2020-01-01 00:25:12</td>\n",
       "      <td>1212167856831508484</td>\n",
       "    </tr>\n",
       "    <tr>\n",
       "      <th>192763</th>\n",
       "      <td>Please consider making a donation today to my ...</td>\n",
       "      <td>justinamash</td>\n",
       "      <td>2019-12-31 15:48:34</td>\n",
       "      <td>1212037842572058626</td>\n",
       "    </tr>\n",
       "  </tbody>\n",
       "</table>\n",
       "<p>192764 rows × 4 columns</p>\n",
       "</div>"
      ],
      "text/plain": [
       "                                                    tweet           author  \\\n",
       "0       Madame Vice President, Americans are watching....  MarshaBlackburn   \n",
       "1       RT @thehill: Sen. @MarshaBlackburn: \"Can you e...  MarshaBlackburn   \n",
       "2       RT @SaraCarterDC: Marsha Blackburn: We need re...  MarshaBlackburn   \n",
       "3       Mainstream media is falling in line with the D...  MarshaBlackburn   \n",
       "4       Democrats want to pack the Supreme Court so th...  MarshaBlackburn   \n",
       "...                                                   ...              ...   \n",
       "192759  No authorization for war with Iran:\\n• 2001 AU...      justinamash   \n",
       "192760  There’s a reason our Constitution grants Congr...      justinamash   \n",
       "192761  Happy New Year!\\n\\nMay 2020 be a year of peace...      justinamash   \n",
       "192762  One of the best decisions I made in 2019 was l...      justinamash   \n",
       "192763  Please consider making a donation today to my ...      justinamash   \n",
       "\n",
       "                      date                   id  \n",
       "0      2021-04-22 23:57:20  1385382242751500293  \n",
       "1      2021-04-22 23:49:43  1385380324495044613  \n",
       "2      2021-04-22 23:08:39  1385369992238092288  \n",
       "3      2021-04-22 20:43:49  1385333542041784322  \n",
       "4      2021-04-22 17:03:59  1385278218186498048  \n",
       "...                    ...                  ...  \n",
       "192759 2020-01-03 16:52:53  1213141191845388288  \n",
       "192760 2020-01-03 03:40:45  1212941844558032898  \n",
       "192761 2020-01-01 05:00:00  1212237013040140289  \n",
       "192762 2020-01-01 00:25:12  1212167856831508484  \n",
       "192763 2019-12-31 15:48:34  1212037842572058626  \n",
       "\n",
       "[192764 rows x 4 columns]"
      ]
     },
     "execution_count": 44,
     "metadata": {},
     "output_type": "execute_result"
    }
   ],
   "source": [
    "import gzip\n",
    "import json\n",
    "from datetime import datetime\n",
    "\n",
    "import jsonlines\n",
    "import pandas as pd\n",
    "\n",
    "with jsonlines.Reader(gzip.open('../data/politicians_tweetdata_long.jsonl.gz')) as reader:\n",
    "    raw_politician_tweets = list(reader)\n",
    "\n",
    "\n",
    "def parse_twitter_datetime(dt: str):\n",
    "    return datetime.strptime(dt, '%a %b %d %H:%M:%S +0000 %Y')\n",
    "\n",
    "\n",
    "tweet_df = pd.DataFrame(data={\n",
    "    'tweet': [t['full_text'] for t in raw_politician_tweets],\n",
    "    'author': [t['user']['screen_name'] for t in raw_politician_tweets],\n",
    "    'date': [parse_twitter_datetime(t['created_at']) for t in raw_politician_tweets],\n",
    "    'id': [t['id'] for t in raw_politician_tweets]\n",
    "})\n",
    "tweet_df"
   ]
  },
  {
   "cell_type": "markdown",
   "metadata": {
    "pycharm": {
     "name": "#%% md\n"
    }
   },
   "source": [
    "Downsample the rows because otherwise there is way too much data"
   ]
  },
  {
   "cell_type": "code",
   "execution_count": 2,
   "metadata": {
    "pycharm": {
     "name": "#%%\n"
    }
   },
   "outputs": [
    {
     "data": {
      "text/html": [
       "<div>\n",
       "<style scoped>\n",
       "    .dataframe tbody tr th:only-of-type {\n",
       "        vertical-align: middle;\n",
       "    }\n",
       "\n",
       "    .dataframe tbody tr th {\n",
       "        vertical-align: top;\n",
       "    }\n",
       "\n",
       "    .dataframe thead th {\n",
       "        text-align: right;\n",
       "    }\n",
       "</style>\n",
       "<table border=\"1\" class=\"dataframe\">\n",
       "  <thead>\n",
       "    <tr style=\"text-align: right;\">\n",
       "      <th></th>\n",
       "      <th>tweet</th>\n",
       "      <th>author</th>\n",
       "      <th>date</th>\n",
       "      <th>id</th>\n",
       "    </tr>\n",
       "  </thead>\n",
       "  <tbody>\n",
       "    <tr>\n",
       "      <th>76588</th>\n",
       "      <td>It's hard to believe this has to be said, but ...</td>\n",
       "      <td>JoeBiden</td>\n",
       "      <td>2020-06-04 22:00:00</td>\n",
       "      <td>1268663821998206978</td>\n",
       "    </tr>\n",
       "    <tr>\n",
       "      <th>61636</th>\n",
       "      <td>@BernieSanders I understand your support for t...</td>\n",
       "      <td>JoinRocky</td>\n",
       "      <td>2020-01-22 19:27:30</td>\n",
       "      <td>1220065470646108162</td>\n",
       "    </tr>\n",
       "    <tr>\n",
       "      <th>53157</th>\n",
       "      <td>I am about to testify before @RulesDemocrats i...</td>\n",
       "      <td>LeaderHoyer</td>\n",
       "      <td>2020-05-14 15:19:19</td>\n",
       "      <td>1260952839851048962</td>\n",
       "    </tr>\n",
       "    <tr>\n",
       "      <th>84794</th>\n",
       "      <td>It is my pleasure to join you this Wed Jul 1. ...</td>\n",
       "      <td>DonBeyerVA</td>\n",
       "      <td>2020-06-29 20:10:46</td>\n",
       "      <td>1277696029291405322</td>\n",
       "    </tr>\n",
       "    <tr>\n",
       "      <th>102510</th>\n",
       "      <td>MAKE MICHIGAN AND AMERICA GREAT AGAIN! 🇺🇸 http...</td>\n",
       "      <td>Mike_Pence</td>\n",
       "      <td>2020-11-03 07:08:30</td>\n",
       "      <td>1323522425204563969</td>\n",
       "    </tr>\n",
       "    <tr>\n",
       "      <th>...</th>\n",
       "      <td>...</td>\n",
       "      <td>...</td>\n",
       "      <td>...</td>\n",
       "      <td>...</td>\n",
       "    </tr>\n",
       "    <tr>\n",
       "      <th>135217</th>\n",
       "      <td>The coronavirus (COVID-19) public health emerg...</td>\n",
       "      <td>gracenapolitano</td>\n",
       "      <td>2020-03-25 01:07:31</td>\n",
       "      <td>1242619085680230400</td>\n",
       "    </tr>\n",
       "    <tr>\n",
       "      <th>96173</th>\n",
       "      <td>We all have to take steps to make sure that we...</td>\n",
       "      <td>michaelcburgess</td>\n",
       "      <td>2021-01-28 22:37:00</td>\n",
       "      <td>1354921444392710149</td>\n",
       "    </tr>\n",
       "    <tr>\n",
       "      <th>25149</th>\n",
       "      <td>Dems want you to have the 2k, the House GOP do...</td>\n",
       "      <td>RepSchakowsky</td>\n",
       "      <td>2020-12-24 21:41:05</td>\n",
       "      <td>1342223796649005063</td>\n",
       "    </tr>\n",
       "    <tr>\n",
       "      <th>64489</th>\n",
       "      <td>(2/2) Durante casi cuatro años he trabajado si...</td>\n",
       "      <td>MarioDB</td>\n",
       "      <td>2021-04-20 18:34:42</td>\n",
       "      <td>1384576271913467911</td>\n",
       "    </tr>\n",
       "    <tr>\n",
       "      <th>160699</th>\n",
       "      <td>I’m grateful to Kentuckians who are stepping u...</td>\n",
       "      <td>LeaderMcConnell</td>\n",
       "      <td>2020-04-02 18:21:26</td>\n",
       "      <td>1245778381419024385</td>\n",
       "    </tr>\n",
       "  </tbody>\n",
       "</table>\n",
       "<p>50000 rows × 4 columns</p>\n",
       "</div>"
      ],
      "text/plain": [
       "                                                    tweet           author  \\\n",
       "76588   It's hard to believe this has to be said, but ...         JoeBiden   \n",
       "61636   @BernieSanders I understand your support for t...        JoinRocky   \n",
       "53157   I am about to testify before @RulesDemocrats i...      LeaderHoyer   \n",
       "84794   It is my pleasure to join you this Wed Jul 1. ...       DonBeyerVA   \n",
       "102510  MAKE MICHIGAN AND AMERICA GREAT AGAIN! 🇺🇸 http...       Mike_Pence   \n",
       "...                                                   ...              ...   \n",
       "135217  The coronavirus (COVID-19) public health emerg...  gracenapolitano   \n",
       "96173   We all have to take steps to make sure that we...  michaelcburgess   \n",
       "25149   Dems want you to have the 2k, the House GOP do...    RepSchakowsky   \n",
       "64489   (2/2) Durante casi cuatro años he trabajado si...          MarioDB   \n",
       "160699  I’m grateful to Kentuckians who are stepping u...  LeaderMcConnell   \n",
       "\n",
       "                      date                   id  \n",
       "76588  2020-06-04 22:00:00  1268663821998206978  \n",
       "61636  2020-01-22 19:27:30  1220065470646108162  \n",
       "53157  2020-05-14 15:19:19  1260952839851048962  \n",
       "84794  2020-06-29 20:10:46  1277696029291405322  \n",
       "102510 2020-11-03 07:08:30  1323522425204563969  \n",
       "...                    ...                  ...  \n",
       "135217 2020-03-25 01:07:31  1242619085680230400  \n",
       "96173  2021-01-28 22:37:00  1354921444392710149  \n",
       "25149  2020-12-24 21:41:05  1342223796649005063  \n",
       "64489  2021-04-20 18:34:42  1384576271913467911  \n",
       "160699 2020-04-02 18:21:26  1245778381419024385  \n",
       "\n",
       "[50000 rows x 4 columns]"
      ]
     },
     "execution_count": 2,
     "metadata": {},
     "output_type": "execute_result"
    }
   ],
   "source": [
    "#tweet_df = tweet_df.sample(50000, random_state=0)\n",
    "#tweet_df"
   ]
  },
  {
   "cell_type": "code",
   "execution_count": 3,
   "metadata": {
    "pycharm": {
     "name": "#%%\n"
    }
   },
   "outputs": [
    {
     "data": {
      "text/html": [
       "<div>\n",
       "<style scoped>\n",
       "    .dataframe tbody tr th:only-of-type {\n",
       "        vertical-align: middle;\n",
       "    }\n",
       "\n",
       "    .dataframe tbody tr th {\n",
       "        vertical-align: top;\n",
       "    }\n",
       "\n",
       "    .dataframe thead th {\n",
       "        text-align: right;\n",
       "    }\n",
       "</style>\n",
       "<table border=\"1\" class=\"dataframe\">\n",
       "  <thead>\n",
       "    <tr style=\"text-align: right;\">\n",
       "      <th></th>\n",
       "      <th>handle</th>\n",
       "      <th>handle_type</th>\n",
       "      <th>name</th>\n",
       "      <th>party</th>\n",
       "      <th>lgbt_stance</th>\n",
       "    </tr>\n",
       "  </thead>\n",
       "  <tbody>\n",
       "    <tr>\n",
       "      <th>0</th>\n",
       "      <td>MarshaBlackburn</td>\n",
       "      <td>Official Twitter</td>\n",
       "      <td>Marsha Blackburn</td>\n",
       "      <td>Republican</td>\n",
       "      <td>0</td>\n",
       "    </tr>\n",
       "    <tr>\n",
       "      <th>1</th>\n",
       "      <td>pattymurray</td>\n",
       "      <td>Official Twitter</td>\n",
       "      <td>Patty Murray</td>\n",
       "      <td>Democratic</td>\n",
       "      <td>4</td>\n",
       "    </tr>\n",
       "    <tr>\n",
       "      <th>3</th>\n",
       "      <td>PeteSessions</td>\n",
       "      <td>Official Twitter</td>\n",
       "      <td>Pete Sessions</td>\n",
       "      <td>Republican</td>\n",
       "      <td>0</td>\n",
       "    </tr>\n",
       "    <tr>\n",
       "      <th>4</th>\n",
       "      <td>SessionsTX17</td>\n",
       "      <td>Campaign Twitter</td>\n",
       "      <td>Pete Sessions</td>\n",
       "      <td>Republican</td>\n",
       "      <td>0</td>\n",
       "    </tr>\n",
       "    <tr>\n",
       "      <th>5</th>\n",
       "      <td>KamalaHarris</td>\n",
       "      <td>Campaign Twitter</td>\n",
       "      <td>Kamala Harris</td>\n",
       "      <td>Democratic</td>\n",
       "      <td>4</td>\n",
       "    </tr>\n",
       "    <tr>\n",
       "      <th>...</th>\n",
       "      <td>...</td>\n",
       "      <td>...</td>\n",
       "      <td>...</td>\n",
       "      <td>...</td>\n",
       "      <td>...</td>\n",
       "    </tr>\n",
       "    <tr>\n",
       "      <th>198</th>\n",
       "      <td>wydenfororegon</td>\n",
       "      <td>Campaign Twitter</td>\n",
       "      <td>Ron Wyden</td>\n",
       "      <td>Democratic</td>\n",
       "      <td>4</td>\n",
       "    </tr>\n",
       "    <tr>\n",
       "      <th>199</th>\n",
       "      <td>joesestak</td>\n",
       "      <td>Campaign Twitter</td>\n",
       "      <td>Joe Sestak</td>\n",
       "      <td>Democratic</td>\n",
       "      <td>4</td>\n",
       "    </tr>\n",
       "    <tr>\n",
       "      <th>200</th>\n",
       "      <td>amashoffice</td>\n",
       "      <td>Official Twitter</td>\n",
       "      <td>Justin Amash</td>\n",
       "      <td>Libertarian</td>\n",
       "      <td>0</td>\n",
       "    </tr>\n",
       "    <tr>\n",
       "      <th>201</th>\n",
       "      <td>teamamash</td>\n",
       "      <td>Campaign Twitter</td>\n",
       "      <td>Justin Amash</td>\n",
       "      <td>Libertarian</td>\n",
       "      <td>0</td>\n",
       "    </tr>\n",
       "    <tr>\n",
       "      <th>202</th>\n",
       "      <td>justinamash</td>\n",
       "      <td>Personal Twitter</td>\n",
       "      <td>Justin Amash</td>\n",
       "      <td>Libertarian</td>\n",
       "      <td>0</td>\n",
       "    </tr>\n",
       "  </tbody>\n",
       "</table>\n",
       "<p>192 rows × 5 columns</p>\n",
       "</div>"
      ],
      "text/plain": [
       "              handle       handle_type              name        party  \\\n",
       "0    MarshaBlackburn  Official Twitter  Marsha Blackburn   Republican   \n",
       "1        pattymurray  Official Twitter      Patty Murray   Democratic   \n",
       "3       PeteSessions  Official Twitter     Pete Sessions   Republican   \n",
       "4       SessionsTX17  Campaign Twitter     Pete Sessions   Republican   \n",
       "5       KamalaHarris  Campaign Twitter     Kamala Harris   Democratic   \n",
       "..               ...               ...               ...          ...   \n",
       "198   wydenfororegon  Campaign Twitter         Ron Wyden   Democratic   \n",
       "199        joesestak  Campaign Twitter        Joe Sestak   Democratic   \n",
       "200      amashoffice  Official Twitter      Justin Amash  Libertarian   \n",
       "201        teamamash  Campaign Twitter      Justin Amash  Libertarian   \n",
       "202      justinamash  Personal Twitter      Justin Amash  Libertarian   \n",
       "\n",
       "     lgbt_stance  \n",
       "0              0  \n",
       "1              4  \n",
       "3              0  \n",
       "4              0  \n",
       "5              4  \n",
       "..           ...  \n",
       "198            4  \n",
       "199            4  \n",
       "200            0  \n",
       "201            0  \n",
       "202            0  \n",
       "\n",
       "[192 rows x 5 columns]"
      ]
     },
     "execution_count": 3,
     "metadata": {},
     "output_type": "execute_result"
    }
   ],
   "source": [
    "with open('../data/politicians.json') as file:\n",
    "    raw_politicians = json.load(file)\n",
    "\n",
    "politician_handles = [\n",
    "    {\n",
    "        'handle': handle['handle'],\n",
    "        'handle_type': handle['name'],\n",
    "        'name': p['name'],\n",
    "        'party': p['party'],\n",
    "        'lgbt_stance': p['vote_match'][2]\n",
    "    }\n",
    "    for p in raw_politicians for handle in p['twitters']\n",
    "]\n",
    "\n",
    "politician_df = pd.DataFrame.from_dict(politician_handles)\n",
    "politician_df = politician_df[politician_df['handle_type'] != 'Don Beyer Twitter feed']\n",
    "politician_df"
   ]
  },
  {
   "cell_type": "code",
   "execution_count": 4,
   "metadata": {
    "pycharm": {
     "name": "#%%\n"
    }
   },
   "outputs": [],
   "source": [
    "tweet_df = tweet_df.merge(politician_df, left_on='author', right_on='handle')"
   ]
  },
  {
   "cell_type": "code",
   "execution_count": 5,
   "metadata": {
    "pycharm": {
     "name": "#%%\n"
    }
   },
   "outputs": [
    {
     "name": "stderr",
     "output_type": "stream",
     "text": [
      "[nltk_data] Downloading package stopwords to /home/astrid/nltk_data...\n",
      "[nltk_data]   Package stopwords is already up-to-date!\n",
      "[nltk_data] Downloading package wordnet to /home/astrid/nltk_data...\n",
      "[nltk_data]   Package wordnet is already up-to-date!\n"
     ]
    },
    {
     "data": {
      "text/plain": [
       "['foo', 'eggs', 'ham', 'foo', 'eggs', 'ham']"
      ]
     },
     "execution_count": 5,
     "metadata": {},
     "output_type": "execute_result"
    }
   ],
   "source": [
    "import string\n",
    "import nltk\n",
    "import numpy as np\n",
    "from nltk import TweetTokenizer, WordNetLemmatizer\n",
    "\n",
    "nltk.download('stopwords')\n",
    "nltk.download('wordnet')\n",
    "\n",
    "# Build stopword set\n",
    "stop = set()\n",
    "stop.update(nltk.corpus.stopwords.words('english'))\n",
    "stop.update(nltk.corpus.stopwords.words('spanish'))\n",
    "stop.update(string.punctuation)\n",
    "\n",
    "# Some twitter-specific ones\n",
    "stop.update(['rt', '…', '—', 'u'])\n",
    "\n",
    "\n",
    "def sublist_replacement(original, old, new):\n",
    "    \"\"\"Replaces a sublist with another list.\"\"\"\n",
    "    output = []\n",
    "\n",
    "    def is_match(i):\n",
    "        if len(original) - i < len(old):\n",
    "            return False\n",
    "        for j in range(len(old)):\n",
    "            if original[i + j] != old[j]:\n",
    "                return False\n",
    "        return True\n",
    "\n",
    "    i = 0\n",
    "    while i < len(original):\n",
    "        if is_match(i):\n",
    "            output.extend(new)\n",
    "            i += len(old)\n",
    "        else:\n",
    "            output.append(original[i])\n",
    "            i += 1\n",
    "\n",
    "    return output\n",
    "\n",
    "\n",
    "sublist_replacement(\n",
    "    ['foo', 'bar', 'spam', 'memes', 'foo', 'bar', 'spam', 'memes'],\n",
    "    ['bar', 'spam', 'memes'],\n",
    "    ['eggs', 'ham']\n",
    ")"
   ]
  },
  {
   "cell_type": "code",
   "execution_count": 6,
   "metadata": {
    "pycharm": {
     "name": "#%%\n"
    }
   },
   "outputs": [
    {
     "data": {
      "image/png": "[encoded data removed]",
      "text/plain": [
       "<Figure size 1152x576 with 2 Axes>"
      ]
     },
     "metadata": {
      "needs_background": "light"
     },
     "output_type": "display_data"
    }
   ],
   "source": [
    "TOKEN_PERMITTED_CHARS = set('#@')\n",
    "\n",
    "\n",
    "def is_token(token: str, stopwords):\n",
    "    return all((\n",
    "        c.isalnum() or c in TOKEN_PERMITTED_CHARS\n",
    "        for c in token\n",
    "    )) and token not in stopwords\n",
    "\n",
    "\n",
    "def clean_tweet_tokens(token_list):\n",
    "    token_list = sublist_replacement(token_list, ['covid', '-', '19'], ['covid19'])\n",
    "    token_list = sublist_replacement(token_list, ['covid', '19'], ['covid19'])\n",
    "    token_list = sublist_replacement(token_list, ['covid'], ['covid19'])\n",
    "    token_list = sublist_replacement(token_list, ['bears', 'ears'], ['bears ears'])\n",
    "    return token_list\n",
    "\n",
    "\n",
    "tokenizer = TweetTokenizer()\n",
    "lemmatizer = WordNetLemmatizer()\n",
    "\n",
    "\n",
    "def tokenize_tweet(tweet, stopwords):\n",
    "    tokens = [tok.lower() for tok in tokenizer.tokenize(tweet)]\n",
    "    tokens = [\n",
    "        lemmatizer.lemmatize(tok)\n",
    "        for tok in clean_tweet_tokens(tokens)\n",
    "        if is_token(tok, stopwords)\n",
    "    ]\n",
    "    return tokens\n",
    "\n",
    "\n",
    "def tokenize_tweets(tweets, stopwords):\n",
    "    return (\n",
    "        tokenize_tweet(tweet, stopwords)\n",
    "        for tweet in tweets\n",
    "    )\n",
    "\n",
    "\n",
    "def make_ngrams(ngram_size=1):\n",
    "    def operator(tokens):\n",
    "        return list(nltk.ngrams(tokens, ngram_size))\n",
    "\n",
    "    return operator\n",
    "\n",
    "\n",
    "def tokenize_tweets_and_flatten(tweets, ngram_size=1):\n",
    "    tokenized_tweets = map(make_ngrams(ngram_size), tokenize_tweets(tweets, stop))\n",
    "    return (' '.join(ngram) for tweet in tokenized_tweets for ngram in tweet)\n",
    "\n",
    "\n",
    "def calculate_word_freqs(series, ngram_size=1):\n",
    "    all_tokens = np.array(list(\n",
    "        tokenize_tweets_and_flatten(series, ngram_size=ngram_size)\n",
    "    ))\n",
    "    tokens, counts = np.unique(all_tokens, return_counts=True)\n",
    "    frequencies = pd.DataFrame(\n",
    "        data={'token': tokens, 'count': counts}\n",
    "    )\n",
    "    frequencies.set_index('token', inplace=True)\n",
    "    frequencies.sort_values('count', inplace=True, ascending=False)\n",
    "    return frequencies\n",
    "\n",
    "\n",
    "import matplotlib.pyplot as plt\n",
    "\n",
    "\n",
    "def plot_frequencies(ax: plt.Axes, freq_series):\n",
    "    top_n = freq_series.iloc[:30]\n",
    "    ax.barh(top_n.index, top_n)\n",
    "    ax.invert_yaxis()\n",
    "\n",
    "\n",
    "def plot_ngrams(ax, tweet_series, ngram_size=1):\n",
    "    frequency_df = calculate_word_freqs(tweet_series, ngram_size=ngram_size)\n",
    "    plot_frequencies(ax, frequency_df['count'])\n",
    "\n",
    "\n",
    "def plot_parties(tweet_df, ngram_size):\n",
    "    fig, (ax_l, ax_r) = plt.subplots(1, 2, figsize=(16, 8))\n",
    "\n",
    "    fig.suptitle(f'Top {ngram_size}-grams used in tweets by...')\n",
    "\n",
    "    ax_l.set_title('Democrats')\n",
    "    plot_ngrams(ax_l, tweet_df[tweet_df['party'] == 'Democratic']['tweet'], ngram_size)\n",
    "\n",
    "    ax_r.set_title('Republicans')\n",
    "    plot_ngrams(ax_r, tweet_df[tweet_df['party'] == 'Republican']['tweet'], ngram_size)\n",
    "\n",
    "\n",
    "plot_parties(tweet_df, 1)\n",
    "plt.show()"
   ]
  },
  {
   "cell_type": "code",
   "execution_count": 7,
   "metadata": {
    "pycharm": {
     "name": "#%%\n"
    }
   },
   "outputs": [
    {
     "data": {
      "image/png": "[encoded data removed]",
      "text/plain": [
       "<Figure size 1152x576 with 2 Axes>"
      ]
     },
     "metadata": {
      "needs_background": "light"
     },
     "output_type": "display_data"
    }
   ],
   "source": [
    "plot_parties(tweet_df, 2)\n",
    "plt.show()"
   ]
  },
  {
   "cell_type": "code",
   "execution_count": 8,
   "metadata": {
    "pycharm": {
     "name": "#%%\n"
    }
   },
   "outputs": [
    {
     "data": {
      "image/png": "[encoded data removed]",
      "text/plain": [
       "<Figure size 1152x576 with 2 Axes>"
      ]
     },
     "metadata": {
      "needs_background": "light"
     },
     "output_type": "display_data"
    }
   ],
   "source": [
    "plot_parties(tweet_df, 3)\n",
    "plt.show()"
   ]
  },
  {
   "cell_type": "markdown",
   "metadata": {
    "pycharm": {
     "name": "#%% md\n"
    }
   },
   "source": [
    "LGBT specifically"
   ]
  },
  {
   "cell_type": "code",
   "execution_count": 45,
   "metadata": {
    "pycharm": {
     "name": "#%%\n"
    }
   },
   "outputs": [],
   "source": [
    "ngrams = calculate_word_freqs(tweet_df['tweet'], ngram_size=1)\n",
    "ngrams2 = calculate_word_freqs(tweet_df['tweet'], ngram_size=2)"
   ]
  },
  {
   "cell_type": "code",
   "execution_count": 58,
   "metadata": {
    "pycharm": {
     "name": "#%%\n"
    }
   },
   "outputs": [
    {
     "data": {
      "text/html": [
       "<div>\n",
       "<style scoped>\n",
       "    .dataframe tbody tr th:only-of-type {\n",
       "        vertical-align: middle;\n",
       "    }\n",
       "\n",
       "    .dataframe tbody tr th {\n",
       "        vertical-align: top;\n",
       "    }\n",
       "\n",
       "    .dataframe thead th {\n",
       "        text-align: right;\n",
       "    }\n",
       "</style>\n",
       "<table border=\"1\" class=\"dataframe\">\n",
       "  <thead>\n",
       "    <tr style=\"text-align: right;\">\n",
       "      <th></th>\n",
       "      <th>count</th>\n",
       "    </tr>\n",
       "    <tr>\n",
       "      <th>token</th>\n",
       "      <th></th>\n",
       "    </tr>\n",
       "  </thead>\n",
       "  <tbody>\n",
       "    <tr>\n",
       "      <th>lgbtq</th>\n",
       "      <td>745</td>\n",
       "    </tr>\n",
       "    <tr>\n",
       "      <th>transparency</th>\n",
       "      <td>666</td>\n",
       "    </tr>\n",
       "    <tr>\n",
       "      <th>transportation</th>\n",
       "      <td>651</td>\n",
       "    </tr>\n",
       "    <tr>\n",
       "      <th>@transportdems</th>\n",
       "      <td>412</td>\n",
       "    </tr>\n",
       "    <tr>\n",
       "      <th>transition</th>\n",
       "      <td>391</td>\n",
       "    </tr>\n",
       "    <tr>\n",
       "      <th>...</th>\n",
       "      <td>...</td>\n",
       "    </tr>\n",
       "    <tr>\n",
       "      <th>@transparencyusa</th>\n",
       "      <td>1</td>\n",
       "    </tr>\n",
       "    <tr>\n",
       "      <th>@transpochoices</th>\n",
       "      <td>1</td>\n",
       "    </tr>\n",
       "    <tr>\n",
       "      <th>@transportde</th>\n",
       "      <td>1</td>\n",
       "    </tr>\n",
       "    <tr>\n",
       "      <th>@transunion</th>\n",
       "      <td>1</td>\n",
       "    </tr>\n",
       "    <tr>\n",
       "      <th>@tracegaynor</th>\n",
       "      <td>1</td>\n",
       "    </tr>\n",
       "  </tbody>\n",
       "</table>\n",
       "<p>227 rows × 1 columns</p>\n",
       "</div>"
      ],
      "text/plain": [
       "                  count\n",
       "token                  \n",
       "lgbtq               745\n",
       "transparency        666\n",
       "transportation      651\n",
       "@transportdems      412\n",
       "transition          391\n",
       "...                 ...\n",
       "@transparencyusa      1\n",
       "@transpochoices       1\n",
       "@transportde          1\n",
       "@transunion           1\n",
       "@tracegaynor          1\n",
       "\n",
       "[227 rows x 1 columns]"
      ]
     },
     "execution_count": 58,
     "metadata": {},
     "output_type": "execute_result"
    }
   ],
   "source": [
    "pd.set_option('display.max_rows', 50)\n",
    "ngrams.loc[[x for x in ngrams.index if 'trans' in x or 'lgbt' in x or 'bisexual' in x or 'lesbian' in x or 'homo' in x or 'gay' in x]]"
   ]
  },
  {
   "cell_type": "code",
   "execution_count": 51,
   "metadata": {
    "pycharm": {
     "name": "#%%\n"
    }
   },
   "outputs": [],
   "source": [
    "import gensim\n",
    "ranged_df = tweet_df\n",
    "documents = list(tokenize_tweets(ranged_df['tweet'], stop))\n",
    "dictionary = gensim.corpora.Dictionary(documents)"
   ]
  },
  {
   "cell_type": "code",
   "execution_count": 52,
   "metadata": {
    "pycharm": {
     "name": "#%%\n"
    }
   },
   "outputs": [],
   "source": [
    "from gensim import corpora, models\n",
    "bow_corpus = [dictionary.doc2bow(doc) for doc in documents]\n",
    "tfidf = models.TfidfModel(bow_corpus)\n",
    "corpus_tfidf = tfidf[bow_corpus]"
   ]
  },
  {
   "cell_type": "code",
   "execution_count": 85,
   "metadata": {
    "pycharm": {
     "name": "#%%\n"
    }
   },
   "outputs": [],
   "source": [
    "TOPICS = 50\n",
    "lda_model_tfidf = models.LdaMulticore(corpus_tfidf, num_topics=TOPICS, id2word=dictionary, passes=50, workers=8)"
   ]
  },
  {
   "cell_type": "code",
   "execution_count": 86,
   "metadata": {
    "pycharm": {
     "name": "#%%\n"
    }
   },
   "outputs": [
    {
     "name": "stdout",
     "output_type": "stream",
     "text": [
      "0\t0.065*\"life\" + 0.062*\"republican\" + 0.051*\"nation\" + 0.046*\"fighting\" + 0.038*\"honor\" + 0.036*\"law\" + 0.029*\"history\" + 0.027*\"sign\" + 0.026*\"bring\" + 0.026*\"never\" + 0.025*\"year\" + 0.024*\"expand\" + 0.024*\"american\" + 0.024*\"already\" + 0.022*\"violence\"\n",
      "1\t0.000*\"congra\" + 0.000*\"bong\" + 0.000*\"@emnewsdc\" + 0.000*\"premiered\" + 0.000*\"#partyoffive\" + 0.000*\"varsity\" + 0.000*\"@stjohnboscohs\" + 0.000*\"joon\" + 0.000*\"#az02\" + 0.000*\"resolv\" + 0.000*\"#demsatthebo\" + 0.000*\"asyl\" + 0.000*\"#goldenglobes\" + 0.000*\"policie\" + 0.000*\"#protectolderworkers\"\n",
      "2\t0.000*\"congra\" + 0.000*\"bong\" + 0.000*\"@emnewsdc\" + 0.000*\"premiered\" + 0.000*\"#partyoffive\" + 0.000*\"varsity\" + 0.000*\"@stjohnboscohs\" + 0.000*\"joon\" + 0.000*\"#az02\" + 0.000*\"resolv\" + 0.000*\"#demsatthebo\" + 0.000*\"asyl\" + 0.000*\"#goldenglobes\" + 0.000*\"policie\" + 0.000*\"#protectolderworkers\"\n",
      "3\t0.150*\"important\" + 0.089*\"without\" + 0.057*\"healthcare\" + 0.049*\"data\" + 0.043*\"#2020census\" + 0.041*\"begin\" + 0.035*\"really\" + 0.034*\"count\" + 0.034*\"deserves\" + 0.031*\"road\" + 0.028*\"given\" + 0.022*\"training\" + 0.017*\"accurate\" + 0.013*\"explain\" + 0.013*\"time\"\n",
      "4\t0.000*\"congra\" + 0.000*\"bong\" + 0.000*\"@emnewsdc\" + 0.000*\"premiered\" + 0.000*\"#partyoffive\" + 0.000*\"varsity\" + 0.000*\"@stjohnboscohs\" + 0.000*\"joon\" + 0.000*\"#az02\" + 0.000*\"resolv\" + 0.000*\"#demsatthebo\" + 0.000*\"asyl\" + 0.000*\"#goldenglobes\" + 0.000*\"policie\" + 0.000*\"#protectolderworkers\"\n",
      "5\t0.114*\"covid19\" + 0.110*\"public\" + 0.088*\"vaccine\" + 0.059*\"package\" + 0.052*\"calling\" + 0.049*\"go\" + 0.045*\"relief\" + 0.043*\"emergency\" + 0.042*\"1\" + 0.039*\"health\" + 0.023*\"tell\" + 0.023*\"spent\" + 0.021*\"trillion\" + 0.017*\"exactly\" + 0.015*\"9\"\n",
      "6\t0.115*\"vote\" + 0.110*\"right\" + 0.087*\"one\" + 0.075*\"@joebiden\" + 0.064*\"justice\" + 0.051*\"court\" + 0.039*\"2020\" + 0.038*\"future\" + 0.037*\"supreme\" + 0.037*\"ballot\" + 0.035*\"thing\" + 0.031*\"november\" + 0.030*\"trump\" + 0.019*\"partisan\" + 0.017*\"get\"\n",
      "7\t0.038*\"day\" + 0.034*\"every\" + 0.032*\"take\" + 0.031*\"election\" + 0.025*\"want\" + 0.024*\"let\" + 0.023*\"people\" + 0.023*\"going\" + 0.021*\"friend\" + 0.018*\"voter\" + 0.017*\"president\" + 0.016*\"senate\" + 0.016*\"must\" + 0.015*\"making\" + 0.015*\"today\"\n",
      "8\t0.000*\"congra\" + 0.000*\"bong\" + 0.000*\"@emnewsdc\" + 0.000*\"premiered\" + 0.000*\"#partyoffive\" + 0.000*\"varsity\" + 0.000*\"@stjohnboscohs\" + 0.000*\"joon\" + 0.000*\"#az02\" + 0.000*\"resolv\" + 0.000*\"#demsatthebo\" + 0.000*\"asyl\" + 0.000*\"#goldenglobes\" + 0.000*\"policie\" + 0.000*\"#protectolderworkers\"\n",
      "9\t0.000*\"congra\" + 0.000*\"bong\" + 0.000*\"@emnewsdc\" + 0.000*\"premiered\" + 0.000*\"#partyoffive\" + 0.000*\"varsity\" + 0.000*\"@stjohnboscohs\" + 0.000*\"joon\" + 0.000*\"#az02\" + 0.000*\"resolv\" + 0.000*\"#demsatthebo\" + 0.000*\"asyl\" + 0.000*\"#goldenglobes\" + 0.000*\"policie\" + 0.000*\"#protectolderworkers\"\n",
      "10\t0.000*\"congra\" + 0.000*\"bong\" + 0.000*\"@emnewsdc\" + 0.000*\"premiered\" + 0.000*\"#partyoffive\" + 0.000*\"varsity\" + 0.000*\"@stjohnboscohs\" + 0.000*\"joon\" + 0.000*\"#az02\" + 0.000*\"resolv\" + 0.000*\"#demsatthebo\" + 0.000*\"asyl\" + 0.000*\"#goldenglobes\" + 0.000*\"policie\" + 0.000*\"#protectolderworkers\"\n",
      "11\t0.000*\"congra\" + 0.000*\"bong\" + 0.000*\"@emnewsdc\" + 0.000*\"premiered\" + 0.000*\"#partyoffive\" + 0.000*\"varsity\" + 0.000*\"@stjohnboscohs\" + 0.000*\"joon\" + 0.000*\"#az02\" + 0.000*\"resolv\" + 0.000*\"#demsatthebo\" + 0.000*\"asyl\" + 0.000*\"#goldenglobes\" + 0.000*\"policie\" + 0.000*\"#protectolderworkers\"\n",
      "12\t0.135*\"pandemic\" + 0.111*\"economy\" + 0.075*\"woman\" + 0.074*\"working\" + 0.059*\"safety\" + 0.052*\"even\" + 0.050*\"made\" + 0.045*\"clear\" + 0.023*\"color\" + 0.020*\"mom\" + 0.020*\"help\" + 0.015*\"known\" + 0.013*\"american\" + 0.012*\"address\" + 0.009*\"long\"\n",
      "13\t0.000*\"congra\" + 0.000*\"bong\" + 0.000*\"@emnewsdc\" + 0.000*\"premiered\" + 0.000*\"#partyoffive\" + 0.000*\"varsity\" + 0.000*\"@stjohnboscohs\" + 0.000*\"joon\" + 0.000*\"#az02\" + 0.000*\"resolv\" + 0.000*\"#demsatthebo\" + 0.000*\"asyl\" + 0.000*\"#goldenglobes\" + 0.000*\"policie\" + 0.000*\"#protectolderworkers\"\n",
      "14\t0.146*\"2\" + 0.097*\"4\" + 0.022*\"1\" + 0.015*\"fresh\" + 0.006*\"pork\" + 0.006*\"apple\" + 0.005*\"cup\" + 0.005*\"salt\" + 0.005*\"chicken\" + 0.004*\"pound\" + 0.004*\"ingredient\" + 0.003*\"mix\" + 0.002*\"pepper\" + 0.001*\"butter\" + 0.001*\"sage\"\n",
      "15\t0.147*\"love\" + 0.072*\"legal\" + 0.021*\"loving\" + 0.014*\"richard\" + 0.012*\"marriage\" + 0.010*\"paved\" + 0.008*\"53\" + 0.003*\"interracial\" + 0.003*\"year\" + 0.002*\"ago\" + 0.002*\"mildred\" + 0.001*\"#lovingday\" + 0.000*\"@juliebosman\" + 0.000*\"@cerritoshs\" + 0.000*\"@lorettasanchez\"\n",
      "16\t0.000*\"congra\" + 0.000*\"bong\" + 0.000*\"@emnewsdc\" + 0.000*\"premiered\" + 0.000*\"#partyoffive\" + 0.000*\"varsity\" + 0.000*\"@stjohnboscohs\" + 0.000*\"joon\" + 0.000*\"#az02\" + 0.000*\"resolv\" + 0.000*\"#demsatthebo\" + 0.000*\"asyl\" + 0.000*\"#goldenglobes\" + 0.000*\"policie\" + 0.000*\"#protectolderworkers\"\n",
      "17\t0.000*\"congra\" + 0.000*\"bong\" + 0.000*\"@emnewsdc\" + 0.000*\"premiered\" + 0.000*\"#partyoffive\" + 0.000*\"varsity\" + 0.000*\"@stjohnboscohs\" + 0.000*\"joon\" + 0.000*\"#az02\" + 0.000*\"resolv\" + 0.000*\"#demsatthebo\" + 0.000*\"asyl\" + 0.000*\"#goldenglobes\" + 0.000*\"policie\" + 0.000*\"#protectolderworkers\"\n",
      "18\t0.092*\"would\" + 0.071*\"call\" + 0.070*\"child\" + 0.067*\"student\" + 0.054*\"school\" + 0.048*\"senate\" + 0.044*\"w\" + 0.038*\"address\" + 0.031*\"education\" + 0.030*\"cannot\" + 0.028*\"floor\" + 0.026*\"wait\" + 0.024*\"additional\" + 0.023*\"bill\" + 0.022*\"help\"\n",
      "19\t0.000*\"congra\" + 0.000*\"bong\" + 0.000*\"@emnewsdc\" + 0.000*\"premiered\" + 0.000*\"#partyoffive\" + 0.000*\"varsity\" + 0.000*\"@stjohnboscohs\" + 0.000*\"joon\" + 0.000*\"#az02\" + 0.000*\"resolv\" + 0.000*\"#demsatthebo\" + 0.000*\"asyl\" + 0.000*\"#goldenglobes\" + 0.000*\"policie\" + 0.000*\"#protectolderworkers\"\n",
      "20\t0.124*\"party\" + 0.087*\"allow\" + 0.086*\"nothing\" + 0.040*\"market\" + 0.033*\"chinese\" + 0.032*\"changed\" + 0.019*\"communist\" + 0.016*\"purchase\" + 0.013*\"beijing\" + 0.012*\"operate\" + 0.010*\"dog\" + 0.007*\"must\" + 0.007*\"wuhan\" + 0.004*\"first\" + 0.004*\"coronavirus\"\n",
      "21\t0.000*\"congra\" + 0.000*\"bong\" + 0.000*\"@emnewsdc\" + 0.000*\"premiered\" + 0.000*\"#partyoffive\" + 0.000*\"varsity\" + 0.000*\"@stjohnboscohs\" + 0.000*\"joon\" + 0.000*\"#az02\" + 0.000*\"resolv\" + 0.000*\"#demsatthebo\" + 0.000*\"asyl\" + 0.000*\"#goldenglobes\" + 0.000*\"policie\" + 0.000*\"#protectolderworkers\"\n",
      "22\t0.120*\"house\" + 0.065*\"legislation\" + 0.065*\"senator\" + 0.063*\"check\" + 0.060*\"bipartisan\" + 0.058*\"passed\" + 0.058*\"also\" + 0.049*\"lost\" + 0.037*\"act\" + 0.024*\"research\" + 0.023*\"taken\" + 0.018*\"dedicated\" + 0.018*\"life\" + 0.016*\"cdc\" + 0.015*\"prevention\"\n",
      "23\t0.000*\"congra\" + 0.000*\"bong\" + 0.000*\"@emnewsdc\" + 0.000*\"premiered\" + 0.000*\"#partyoffive\" + 0.000*\"varsity\" + 0.000*\"@stjohnboscohs\" + 0.000*\"joon\" + 0.000*\"#az02\" + 0.000*\"resolv\" + 0.000*\"#demsatthebo\" + 0.000*\"asyl\" + 0.000*\"#goldenglobes\" + 0.000*\"policie\" + 0.000*\"#protectolderworkers\"\n",
      "24\t0.097*\"stay\" + 0.069*\"order\" + 0.065*\"strong\" + 0.063*\"answer\" + 0.045*\"yes\" + 0.045*\"running\" + 0.039*\"someone\" + 0.036*\"6\" + 0.033*\"run\" + 0.033*\"asked\" + 0.028*\"home\" + 0.026*\"least\" + 0.023*\"alone\" + 0.022*\"distance\" + 0.020*\"allowed\"\n",
      "25\t0.090*\"plan\" + 0.057*\"back\" + 0.056*\"give\" + 0.056*\"benefit\" + 0.052*\"unemployment\" + 0.048*\"worker\" + 0.045*\"long\" + 0.038*\"safely\" + 0.034*\"prevent\" + 0.034*\"resource\" + 0.032*\"american\" + 0.030*\"rescue\" + 0.030*\"send\" + 0.029*\"get\" + 0.028*\"direct\"\n",
      "26\t0.067*\"people\" + 0.048*\"business\" + 0.039*\"member\" + 0.037*\"much\" + 0.036*\"colleague\" + 0.035*\"small\" + 0.033*\"mask\" + 0.029*\"joined\" + 0.028*\"around\" + 0.026*\"hold\" + 0.026*\"hand\" + 0.025*\"billion\" + 0.024*\"rule\" + 0.023*\"tonight\" + 0.023*\"looking\"\n",
      "27\t0.000*\"congra\" + 0.000*\"bong\" + 0.000*\"@emnewsdc\" + 0.000*\"premiered\" + 0.000*\"#partyoffive\" + 0.000*\"varsity\" + 0.000*\"@stjohnboscohs\" + 0.000*\"joon\" + 0.000*\"#az02\" + 0.000*\"resolv\" + 0.000*\"#demsatthebo\" + 0.000*\"asyl\" + 0.000*\"#goldenglobes\" + 0.000*\"policie\" + 0.000*\"#protectolderworkers\"\n",
      "28\t0.127*\"trump\" + 0.114*\"president\" + 0.093*\"still\" + 0.057*\"last\" + 0.056*\"said\" + 0.053*\"month\" + 0.036*\"admin\" + 0.035*\"deliver\" + 0.033*\"finally\" + 0.033*\"true\" + 0.033*\"test\" + 0.028*\"fought\" + 0.018*\"require\" + 0.016*\"need\" + 0.013*\"get\"\n",
      "29\t0.118*\"national\" + 0.109*\"administration\" + 0.075*\"testing\" + 0.068*\"spread\" + 0.064*\"coronavirus\" + 0.057*\"free\" + 0.044*\"trump\" + 0.028*\"tool\" + 0.027*\"includes\" + 0.026*\"contact\" + 0.024*\"comprehensive\" + 0.022*\"slow\" + 0.016*\"tracing\" + 0.015*\"plan\" + 0.013*\"fast\"\n",
      "30\t0.154*\"u\" + 0.114*\"way\" + 0.112*\"across\" + 0.076*\"like\" + 0.068*\"funding\" + 0.061*\"country\" + 0.049*\"help\" + 0.037*\"build\" + 0.033*\"green\" + 0.028*\"housing\" + 0.012*\"public\" + 0.010*\"go\" + 0.007*\"long\" + 0.006*\"critically\" + 0.005*\"#americanjobsplan\"\n",
      "31\t0.000*\"congra\" + 0.000*\"bong\" + 0.000*\"@emnewsdc\" + 0.000*\"premiered\" + 0.000*\"#partyoffive\" + 0.000*\"varsity\" + 0.000*\"@stjohnboscohs\" + 0.000*\"joon\" + 0.000*\"#az02\" + 0.000*\"resolv\" + 0.000*\"#demsatthebo\" + 0.000*\"asyl\" + 0.000*\"#goldenglobes\" + 0.000*\"policie\" + 0.000*\"#protectolderworkers\"\n",
      "32\t0.000*\"congra\" + 0.000*\"bong\" + 0.000*\"@emnewsdc\" + 0.000*\"premiered\" + 0.000*\"#partyoffive\" + 0.000*\"varsity\" + 0.000*\"@stjohnboscohs\" + 0.000*\"joon\" + 0.000*\"#az02\" + 0.000*\"resolv\" + 0.000*\"#demsatthebo\" + 0.000*\"asyl\" + 0.000*\"#goldenglobes\" + 0.000*\"policie\" + 0.000*\"#protectolderworkers\"\n",
      "33\t0.055*\"community\" + 0.051*\"know\" + 0.050*\"health\" + 0.045*\"care\" + 0.038*\"keep\" + 0.031*\"response\" + 0.029*\"worker\" + 0.028*\"black\" + 0.027*\"need\" + 0.024*\"system\" + 0.023*\"washington\" + 0.022*\"real\" + 0.021*\"must\" + 0.021*\"covid19\" + 0.019*\"hero\"\n",
      "34\t0.000*\"congra\" + 0.000*\"bong\" + 0.000*\"@emnewsdc\" + 0.000*\"premiered\" + 0.000*\"#partyoffive\" + 0.000*\"varsity\" + 0.000*\"@stjohnboscohs\" + 0.000*\"joon\" + 0.000*\"#az02\" + 0.000*\"resolv\" + 0.000*\"#demsatthebo\" + 0.000*\"asyl\" + 0.000*\"#goldenglobes\" + 0.000*\"policie\" + 0.000*\"#protectolderworkers\"\n",
      "35\t0.054*\"start\" + 0.049*\"accountable\" + 0.046*\"company\" + 0.043*\"china\" + 0.039*\"george\" + 0.034*\"speak\" + 0.032*\"floyd\" + 0.032*\"generation\" + 0.031*\"held\" + 0.026*\"phone\" + 0.025*\"reality\" + 0.025*\"labor\" + 0.024*\"courage\" + 0.023*\"justice\" + 0.023*\"demanding\"\n",
      "36\t0.085*\"state\" + 0.076*\"america\" + 0.059*\"safe\" + 0.036*\"united\" + 0.029*\"decision\" + 0.023*\"supply\" + 0.022*\"introduced\" + 0.019*\"act\" + 0.019*\"10\" + 0.019*\"healthy\" + 0.018*\"politics\" + 0.018*\"amendment\" + 0.018*\"grant\" + 0.017*\"throughout\" + 0.017*\"keeping\"\n",
      "37\t0.097*\"week\" + 0.095*\"pas\" + 0.082*\"better\" + 0.066*\"put\" + 0.058*\"deserve\" + 0.051*\"military\" + 0.044*\"report\" + 0.043*\"end\" + 0.036*\"border\" + 0.036*\"men\" + 0.026*\"woman\" + 0.024*\"must\" + 0.022*\"trump\" + 0.020*\"b\" + 0.020*\"wall\"\n",
      "38\t0.080*\"economic\" + 0.079*\"change\" + 0.070*\"biden\" + 0.069*\"government\" + 0.063*\"full\" + 0.059*\"climate\" + 0.043*\"action\" + 0.035*\"racial\" + 0.034*\"fair\" + 0.029*\"equality\" + 0.026*\"executive\" + 0.025*\"@potus\" + 0.023*\"restore\" + 0.023*\"bold\" + 0.020*\"trust\"\n",
      "39\t0.000*\"congra\" + 0.000*\"bong\" + 0.000*\"@emnewsdc\" + 0.000*\"premiered\" + 0.000*\"#partyoffive\" + 0.000*\"varsity\" + 0.000*\"@stjohnboscohs\" + 0.000*\"joon\" + 0.000*\"#az02\" + 0.000*\"resolv\" + 0.000*\"#demsatthebo\" + 0.000*\"asyl\" + 0.000*\"#goldenglobes\" + 0.000*\"policie\" + 0.000*\"#protectolderworkers\"\n",
      "40\t0.044*\"time\" + 0.033*\"support\" + 0.030*\"continue\" + 0.030*\"first\" + 0.029*\"crisis\" + 0.029*\"federal\" + 0.027*\"help\" + 0.026*\"live\" + 0.025*\"need\" + 0.025*\"get\" + 0.021*\"everyone\" + 0.021*\"forward\" + 0.020*\"working\" + 0.019*\"done\" + 0.019*\"look\"\n",
      "41\t0.000*\"congra\" + 0.000*\"bong\" + 0.000*\"@emnewsdc\" + 0.000*\"premiered\" + 0.000*\"#partyoffive\" + 0.000*\"varsity\" + 0.000*\"@stjohnboscohs\" + 0.000*\"joon\" + 0.000*\"#az02\" + 0.000*\"resolv\" + 0.000*\"#demsatthebo\" + 0.000*\"asyl\" + 0.000*\"#goldenglobes\" + 0.000*\"policie\" + 0.000*\"#protectolderworkers\"\n",
      "42\t0.000*\"congra\" + 0.000*\"bong\" + 0.000*\"@emnewsdc\" + 0.000*\"premiered\" + 0.000*\"#partyoffive\" + 0.000*\"varsity\" + 0.000*\"@stjohnboscohs\" + 0.000*\"joon\" + 0.000*\"#az02\" + 0.000*\"resolv\" + 0.000*\"#demsatthebo\" + 0.000*\"asyl\" + 0.000*\"#goldenglobes\" + 0.000*\"policie\" + 0.000*\"#protectolderworkers\"\n",
      "43\t0.176*\"proud\" + 0.112*\"critical\" + 0.078*\"visit\" + 0.048*\"progress\" + 0.046*\"role\" + 0.035*\"development\" + 0.034*\"play\" + 0.033*\"pleased\" + 0.025*\"saw\" + 0.017*\"highlight\" + 0.015*\"defending\" + 0.015*\"state\" + 0.015*\"nation\" + 0.014*\"firsthand\" + 0.009*\"prioritizing\"\n",
      "44\t0.113*\"make\" + 0.087*\"new\" + 0.053*\"sure\" + 0.046*\"please\" + 0.036*\"social\" + 0.035*\"save\" + 0.032*\"voice\" + 0.031*\"matter\" + 0.029*\"ready\" + 0.024*\"create\" + 0.023*\"possible\" + 0.023*\"leave\" + 0.021*\"virginia\" + 0.020*\"energy\" + 0.020*\"chair\"\n",
      "45\t0.000*\"congra\" + 0.000*\"bong\" + 0.000*\"@emnewsdc\" + 0.000*\"premiered\" + 0.000*\"#partyoffive\" + 0.000*\"varsity\" + 0.000*\"@stjohnboscohs\" + 0.000*\"joon\" + 0.000*\"#az02\" + 0.000*\"resolv\" + 0.000*\"#demsatthebo\" + 0.000*\"asyl\" + 0.000*\"#goldenglobes\" + 0.000*\"policie\" + 0.000*\"#protectolderworkers\"\n",
      "46\t0.136*\"many\" + 0.120*\"effort\" + 0.119*\"home\" + 0.053*\"resident\" + 0.043*\"called\" + 0.036*\"partner\" + 0.027*\"nyc\" + 0.020*\"accessible\" + 0.020*\"island\" + 0.019*\"equitable\" + 0.014*\"establish\" + 0.012*\"week\" + 0.011*\"nyers\" + 0.009*\"must\" + 0.009*\"vaccine\"\n",
      "47\t0.000*\"congra\" + 0.000*\"bong\" + 0.000*\"@emnewsdc\" + 0.000*\"premiered\" + 0.000*\"#partyoffive\" + 0.000*\"varsity\" + 0.000*\"@stjohnboscohs\" + 0.000*\"joon\" + 0.000*\"#az02\" + 0.000*\"resolv\" + 0.000*\"#demsatthebo\" + 0.000*\"asyl\" + 0.000*\"#goldenglobes\" + 0.000*\"policie\" + 0.000*\"#protectolderworkers\"\n",
      "48\t0.270*\"#covid19\" + 0.088*\"another\" + 0.047*\"total\" + 0.038*\"truly\" + 0.034*\"beyond\" + 0.033*\"bringing\" + 0.026*\"1st\" + 0.016*\"filed\" + 0.014*\"week\" + 0.012*\"million\" + 0.010*\"job\" + 0.007*\"worker\" + 0.007*\"american\" + 0.006*\"need\" + 0.006*\"relief\"\n",
      "49\t0.106*\"act\" + 0.104*\"million\" + 0.096*\"access\" + 0.092*\"job\" + 0.057*\"affordable\" + 0.054*\"infrastructure\" + 0.053*\"hospital\" + 0.044*\"water\" + 0.025*\"#forthepeople\" + 0.024*\"broadband\" + 0.017*\"crisis\" + 0.013*\"pollution\" + 0.012*\"protects\" + 0.011*\"housing\" + 0.008*\"safe\"\n"
     ]
    }
   ],
   "source": [
    "for idx, topic in lda_model_tfidf.print_topics(-1, num_words=15):\n",
    "    print('{}\\t{}'.format(idx, topic))"
   ]
  },
  {
   "cell_type": "code",
   "execution_count": 82,
   "metadata": {
    "pycharm": {
     "name": "#%%\n"
    }
   },
   "outputs": [
    {
     "data": {
      "text/html": [
       "<div>\n",
       "<style scoped>\n",
       "    .dataframe tbody tr th:only-of-type {\n",
       "        vertical-align: middle;\n",
       "    }\n",
       "\n",
       "    .dataframe tbody tr th {\n",
       "        vertical-align: top;\n",
       "    }\n",
       "\n",
       "    .dataframe thead th {\n",
       "        text-align: right;\n",
       "    }\n",
       "</style>\n",
       "<table border=\"1\" class=\"dataframe\">\n",
       "  <thead>\n",
       "    <tr style=\"text-align: right;\">\n",
       "      <th></th>\n",
       "      <th>tweet</th>\n",
       "      <th>author</th>\n",
       "      <th>date</th>\n",
       "      <th>id</th>\n",
       "    </tr>\n",
       "  </thead>\n",
       "  <tbody>\n",
       "    <tr>\n",
       "      <th>3488</th>\n",
       "      <td>I'm so proud of Tacoma's Stella Keating for sp...</td>\n",
       "      <td>PattyMurray</td>\n",
       "      <td>2021-03-17 19:51:45</td>\n",
       "      <td>1372274474788196367</td>\n",
       "    </tr>\n",
       "    <tr>\n",
       "      <th>3590</th>\n",
       "      <td>Republicans introduced an amendment that was s...</td>\n",
       "      <td>PattyMurray</td>\n",
       "      <td>2021-03-06 14:57:24</td>\n",
       "      <td>1368214135612248067</td>\n",
       "    </tr>\n",
       "    <tr>\n",
       "      <th>3801</th>\n",
       "      <td>.@teachcardona is exactly right. As I said tod...</td>\n",
       "      <td>PattyMurray</td>\n",
       "      <td>2021-02-03 19:05:10</td>\n",
       "      <td>1357042463316336645</td>\n",
       "    </tr>\n",
       "    <tr>\n",
       "      <th>3866</th>\n",
       "      <td>Former President Trump's ban on transgender se...</td>\n",
       "      <td>PattyMurray</td>\n",
       "      <td>2021-01-25 19:29:13</td>\n",
       "      <td>1353787023690256395</td>\n",
       "    </tr>\n",
       "    <tr>\n",
       "      <th>4146</th>\n",
       "      <td>Today on #TransDayOfRemembrance, we honor the ...</td>\n",
       "      <td>PattyMurray</td>\n",
       "      <td>2020-11-20 18:00:43</td>\n",
       "      <td>1329847151879458817</td>\n",
       "    </tr>\n",
       "    <tr>\n",
       "      <th>...</th>\n",
       "      <td>...</td>\n",
       "      <td>...</td>\n",
       "      <td>...</td>\n",
       "      <td>...</td>\n",
       "    </tr>\n",
       "    <tr>\n",
       "      <th>188397</th>\n",
       "      <td>Proud this #TransgenderAwarenessWeek and every...</td>\n",
       "      <td>RonWyden</td>\n",
       "      <td>2020-11-19 21:15:23</td>\n",
       "      <td>1329533755598389248</td>\n",
       "    </tr>\n",
       "    <tr>\n",
       "      <th>190292</th>\n",
       "      <td>@WillFiteForYou @AnonymousStaffr I’m not sure ...</td>\n",
       "      <td>justinamash</td>\n",
       "      <td>2021-01-25 21:32:38</td>\n",
       "      <td>1353818083908059137</td>\n",
       "    </tr>\n",
       "    <tr>\n",
       "      <th>190294</th>\n",
       "      <td>@WillFiteForYou @AnonymousStaffr As you can se...</td>\n",
       "      <td>justinamash</td>\n",
       "      <td>2021-01-25 21:15:58</td>\n",
       "      <td>1353813887922147328</td>\n",
       "    </tr>\n",
       "    <tr>\n",
       "      <th>190298</th>\n",
       "      <td>This is a win for equality before the law. Tra...</td>\n",
       "      <td>justinamash</td>\n",
       "      <td>2021-01-25 16:42:49</td>\n",
       "      <td>1353745147398393858</td>\n",
       "    </tr>\n",
       "    <tr>\n",
       "      <th>191728</th>\n",
       "      <td>“When an employer fires an employee for being ...</td>\n",
       "      <td>justinamash</td>\n",
       "      <td>2020-06-16 03:30:34</td>\n",
       "      <td>1272733276894040064</td>\n",
       "    </tr>\n",
       "  </tbody>\n",
       "</table>\n",
       "<p>207 rows × 4 columns</p>\n",
       "</div>"
      ],
      "text/plain": [
       "                                                    tweet       author  \\\n",
       "3488    I'm so proud of Tacoma's Stella Keating for sp...  PattyMurray   \n",
       "3590    Republicans introduced an amendment that was s...  PattyMurray   \n",
       "3801    .@teachcardona is exactly right. As I said tod...  PattyMurray   \n",
       "3866    Former President Trump's ban on transgender se...  PattyMurray   \n",
       "4146    Today on #TransDayOfRemembrance, we honor the ...  PattyMurray   \n",
       "...                                                   ...          ...   \n",
       "188397  Proud this #TransgenderAwarenessWeek and every...     RonWyden   \n",
       "190292  @WillFiteForYou @AnonymousStaffr I’m not sure ...  justinamash   \n",
       "190294  @WillFiteForYou @AnonymousStaffr As you can se...  justinamash   \n",
       "190298  This is a win for equality before the law. Tra...  justinamash   \n",
       "191728  “When an employer fires an employee for being ...  justinamash   \n",
       "\n",
       "                      date                   id  \n",
       "3488   2021-03-17 19:51:45  1372274474788196367  \n",
       "3590   2021-03-06 14:57:24  1368214135612248067  \n",
       "3801   2021-02-03 19:05:10  1357042463316336645  \n",
       "3866   2021-01-25 19:29:13  1353787023690256395  \n",
       "4146   2020-11-20 18:00:43  1329847151879458817  \n",
       "...                    ...                  ...  \n",
       "188397 2020-11-19 21:15:23  1329533755598389248  \n",
       "190292 2021-01-25 21:32:38  1353818083908059137  \n",
       "190294 2021-01-25 21:15:58  1353813887922147328  \n",
       "190298 2021-01-25 16:42:49  1353745147398393858  \n",
       "191728 2020-06-16 03:30:34  1272733276894040064  \n",
       "\n",
       "[207 rows x 4 columns]"
      ]
     },
     "execution_count": 82,
     "metadata": {},
     "output_type": "execute_result"
    }
   ],
   "source": [
    "trans_tweets = tweet_df[tweet_df['tweet'].str.lower().str.find('transgender') > 0]\n",
    "trans_tweets"
   ]
  },
  {
   "cell_type": "markdown",
   "metadata": {
    "pycharm": {
     "name": "#%% md\n"
    }
   },
   "source": [
    "Sum of scores"
   ]
  },
  {
   "cell_type": "code",
   "execution_count": 83,
   "metadata": {
    "pycharm": {
     "name": "#%%\n"
    }
   },
   "outputs": [
    {
     "data": {
      "text/plain": [
       "[(4, 0.03999999910593033),\n",
       " (8, 0.03999999910593033),\n",
       " (9, 0.03999999910593033),\n",
       " (15, 0.03999999910593033),\n",
       " (19, 0.03999999910593033),\n",
       " (20, 0.03999999910593033),\n",
       " (22, 0.03999999910593033),\n",
       " (23, 0.03999999910593033),\n",
       " (25, 0.03999999910593033),\n",
       " (26, 0.03999999910593033),\n",
       " (27, 0.03999999910593033),\n",
       " (28, 0.03999999910593033),\n",
       " (29, 0.03999999910593033),\n",
       " (32, 0.03999999910593033),\n",
       " (34, 0.03999999910593033),\n",
       " (38, 0.03999999910593033),\n",
       " (39, 0.03999999910593033),\n",
       " (44, 0.03999999910593033),\n",
       " (45, 0.03999999910593033),\n",
       " (47, 0.03999999910593033),\n",
       " (48, 0.03999999910593033),\n",
       " (7, 0.2997782900929451),\n",
       " (16, 0.43363967537879944),\n",
       " (24, 0.4564238376915455),\n",
       " (11, 0.7093305811285973),\n",
       " (42, 0.758843407034874),\n",
       " (31, 0.8805377408862114),\n",
       " (36, 0.911752812564373),\n",
       " (1, 1.2072904780507088),\n",
       " (49, 1.7896298319101334),\n",
       " (14, 2.0366812273859978),\n",
       " (5, 2.3572740629315376),\n",
       " (37, 2.4420587308704853),\n",
       " (17, 2.5377258136868477),\n",
       " (6, 2.774760290980339),\n",
       " (2, 3.0908347219228745),\n",
       " (10, 3.657112706452608),\n",
       " (21, 3.8483361080288887),\n",
       " (33, 4.4255549013614655),\n",
       " (40, 4.728227481245995),\n",
       " (3, 5.919980481266975),\n",
       " (13, 6.199051029980183),\n",
       " (18, 6.354476474225521),\n",
       " (41, 9.58983263373375),\n",
       " (35, 9.98088413849473),\n",
       " (43, 12.628218811005354),\n",
       " (12, 13.111793417483568),\n",
       " (46, 22.39641162753105),\n",
       " (30, 27.555918134748936),\n",
       " (0, 32.43437574058771)]"
      ]
     },
     "execution_count": 83,
     "metadata": {},
     "output_type": "execute_result"
    }
   ],
   "source": [
    "bows = [bow_corpus[i] for i in trans_tweets.index]\n",
    "topic_scores = [0 for _ in range(TOPICS)]\n",
    "\n",
    "for tweet_topics in lda_model_tfidf[bows]:\n",
    "    for idx, score in tweet_topics:\n",
    "        topic_scores[idx] += score\n",
    "list(sorted(enumerate(topic_scores), key=lambda pair: pair[1]))"
   ]
  },
  {
   "cell_type": "markdown",
   "metadata": {
    "pycharm": {
     "name": "#%% md\n"
    }
   },
   "source": [
    "Count of maximum topic scores"
   ]
  },
  {
   "cell_type": "code",
   "execution_count": 84,
   "metadata": {
    "pycharm": {
     "name": "#%%\n"
    }
   },
   "outputs": [
    {
     "data": {
      "text/plain": [
       "[(1, 0),\n",
       " (4, 0),\n",
       " (5, 0),\n",
       " (6, 0),\n",
       " (7, 0),\n",
       " (8, 0),\n",
       " (9, 0),\n",
       " (11, 0),\n",
       " (14, 0),\n",
       " (15, 0),\n",
       " (16, 0),\n",
       " (19, 0),\n",
       " (20, 0),\n",
       " (22, 0),\n",
       " (23, 0),\n",
       " (24, 0),\n",
       " (25, 0),\n",
       " (26, 0),\n",
       " (27, 0),\n",
       " (28, 0),\n",
       " (29, 0),\n",
       " (31, 0),\n",
       " (32, 0),\n",
       " (34, 0),\n",
       " (36, 0),\n",
       " (38, 0),\n",
       " (39, 0),\n",
       " (42, 0),\n",
       " (44, 0),\n",
       " (45, 0),\n",
       " (47, 0),\n",
       " (48, 0),\n",
       " (49, 0),\n",
       " (10, 1),\n",
       " (17, 1),\n",
       " (37, 1),\n",
       " (3, 2),\n",
       " (12, 2),\n",
       " (35, 3),\n",
       " (41, 3),\n",
       " (40, 4),\n",
       " (2, 5),\n",
       " (13, 5),\n",
       " (33, 5),\n",
       " (21, 6),\n",
       " (43, 10),\n",
       " (18, 13),\n",
       " (46, 35),\n",
       " (30, 50),\n",
       " (0, 61)]"
      ]
     },
     "execution_count": 84,
     "metadata": {},
     "output_type": "execute_result"
    }
   ],
   "source": [
    "bows = [bow_corpus[i] for i in trans_tweets.index]\n",
    "topic_counts = [0 for _ in range(TOPICS)]\n",
    "\n",
    "for tweet_topics in lda_model_tfidf[bows]:\n",
    "    idx, score = max(tweet_topics, key=lambda pair: pair[1])\n",
    "    topic_counts[idx] += 1\n",
    "list(sorted(enumerate(topic_counts), key=lambda pair: pair[1]))"
   ]
  }
 ],
 "metadata": {
  "kernelspec": {
   "display_name": "Python 3",
   "language": "python",
   "name": "python3"
  },
  "language_info": {
   "codemirror_mode": {
    "name": "ipython",
    "version": 3
   },
   "file_extension": ".py",
   "mimetype": "text/x-python",
   "name": "python",
   "nbconvert_exporter": "python",
   "pygments_lexer": "ipython3",
   "version": "3.8.3"
  }
 },
 "nbformat": 4,
 "nbformat_minor": 1
}